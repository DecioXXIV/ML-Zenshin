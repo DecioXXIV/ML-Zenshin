{
 "cells": [
  {
   "cell_type": "markdown",
   "id": "38f3f731",
   "metadata": {},
   "source": [
    "Il presente Notebook illustra un esempio di Regressione, svolto con il Modello della Lasso Regression."
   ]
  },
  {
   "cell_type": "code",
   "execution_count": 1,
   "id": "e1976f86",
   "metadata": {},
   "outputs": [],
   "source": [
    "import sklearn\n",
    "import pandas as pd\n",
    "import numpy as np"
   ]
  },
  {
   "cell_type": "code",
   "execution_count": 2,
   "id": "f56fe0dd",
   "metadata": {},
   "outputs": [],
   "source": [
    "import warnings\n",
    "warnings.filterwarnings(\"ignore\")"
   ]
  },
  {
   "cell_type": "code",
   "execution_count": 3,
   "id": "1c8fb2fa",
   "metadata": {},
   "outputs": [],
   "source": [
    "data_1722 = pd.read_csv(\"../../dataset/Train Set 1722.csv\")\n",
    "data_2223 = pd.read_csv(\"../../dataset/Test Set 2223.csv\")\n",
    "data_total = pd.concat([data_1722, data_2223], axis=0)"
   ]
  },
  {
   "cell_type": "markdown",
   "id": "2f6d9d31",
   "metadata": {},
   "source": [
    "# Caricamento e Preparazione del Dataset"
   ]
  },
  {
   "cell_type": "markdown",
   "id": "b2215209",
   "metadata": {},
   "source": [
    "## Feature Selection e Rimozione degli Outlier (Partite Giocate & Minuti Giocati)"
   ]
  },
  {
   "cell_type": "code",
   "execution_count": 4,
   "id": "87120563",
   "metadata": {},
   "outputs": [],
   "source": [
    "data_total = data_total[[\"Player\", \"Pos\", \"Squad\", \"Age\", \"Season\", \"Goals\", \"xG\", \"Shots on Target\", \"Shots\", \"Att Pen\", \"Offsides\",\n",
    "                  \"GCA\", \"Carries into Penalty Area\", \"PK Attempted\", \"PK Made\", \"Att 3rd\", \"GCA TO to Goal\", \"Take-Ons Attempted\", \"Take-Ons Successful\",\n",
    "                  \"GCA Shot to Goal\", \"Goals Scored while on Pitch\", \"Carries into Final 1/3\", \"xGS while on Pitch\", \"Matches Played\", \"G/Shots on Target\",\n",
    "                   \"G/Shot\", \"Minutes\", \"Shots on Target%\", \"Shots on Target/90\", \"Shots/90\", \"Mid 3rd\", \"Def 3rd\", \"Def Pen\"]]\n",
    "\n",
    "data_total = data_total.dropna(how=\"any\")\n",
    "data_total = data_total[(data_total[\"Matches Played\"] >= 5) & (data_total[\"Minutes\"] >= 343)]\n",
    "data_total.reset_index(drop=True, inplace=True)"
   ]
  },
  {
   "cell_type": "code",
   "execution_count": 5,
   "id": "ff68792a",
   "metadata": {},
   "outputs": [],
   "source": [
    "X_train = data_total[data_total[\"Season\"] != 2223]\n",
    "X_test = data_total[data_total[\"Season\"] == 2223]"
   ]
  },
  {
   "cell_type": "markdown",
   "id": "d2dae933",
   "metadata": {},
   "source": [
    "## Scaling"
   ]
  },
  {
   "cell_type": "code",
   "execution_count": 6,
   "id": "7e8ea503",
   "metadata": {},
   "outputs": [],
   "source": [
    "from sklearn.preprocessing import StandardScaler\n",
    "scaler = StandardScaler()"
   ]
  },
  {
   "cell_type": "code",
   "execution_count": 7,
   "id": "e38fdd1f",
   "metadata": {},
   "outputs": [],
   "source": [
    "X_train_to_scale = X_train[[\"xG\", \"Shots on Target\", \"Shots\", \"Att Pen\", \"Offsides\",\n",
    "                  \"GCA\", \"Carries into Penalty Area\", \"PK Attempted\", \"PK Made\", \"Att 3rd\", \"GCA TO to Goal\", \"Take-Ons Attempted\", \"Take-Ons Successful\",\n",
    "                  \"GCA Shot to Goal\", \"Goals Scored while on Pitch\", \"Carries into Final 1/3\", \"xGS while on Pitch\", \"Matches Played\", \"G/Shots on Target\",\n",
    "                   \"G/Shot\", \"Minutes\", \"Shots on Target%\", \"Shots on Target/90\", \"Shots/90\", \"Mid 3rd\", \"Def 3rd\", \"Def Pen\"]]\n",
    "\n",
    "X_test_to_scale = X_test[[\"xG\", \"Shots on Target\", \"Shots\", \"Att Pen\", \"Offsides\",\n",
    "                  \"GCA\", \"Carries into Penalty Area\", \"PK Attempted\", \"PK Made\", \"Att 3rd\", \"GCA TO to Goal\", \"Take-Ons Attempted\", \"Take-Ons Successful\",\n",
    "                  \"GCA Shot to Goal\", \"Goals Scored while on Pitch\", \"Carries into Final 1/3\", \"xGS while on Pitch\", \"Matches Played\", \"G/Shots on Target\",\n",
    "                   \"G/Shot\", \"Minutes\", \"Shots on Target%\", \"Shots on Target/90\", \"Shots/90\", \"Mid 3rd\", \"Def 3rd\", \"Def Pen\"]]\n"
   ]
  },
  {
   "cell_type": "code",
   "execution_count": 8,
   "id": "156f2c24",
   "metadata": {},
   "outputs": [],
   "source": [
    "X_train_scaled = scaler.fit_transform(X_train_to_scale)\n",
    "X_test_scaled = scaler.transform(X_test_to_scale)"
   ]
  },
  {
   "cell_type": "markdown",
   "id": "eac9e6d3",
   "metadata": {},
   "source": [
    "# SpectralClustering"
   ]
  },
  {
   "cell_type": "code",
   "execution_count": 9,
   "id": "8cad54bc",
   "metadata": {},
   "outputs": [],
   "source": [
    "from sklearn.cluster import SpectralClustering"
   ]
  },
  {
   "cell_type": "code",
   "execution_count": 10,
   "id": "194dc7b7",
   "metadata": {},
   "outputs": [],
   "source": [
    "sp_clustering = SpectralClustering(n_clusters=6, affinity='nearest_neighbors', n_neighbors=100, assign_labels='kmeans', n_init=50, random_state=24)"
   ]
  },
  {
   "cell_type": "code",
   "execution_count": 11,
   "id": "8cac1b4b",
   "metadata": {},
   "outputs": [],
   "source": [
    "from datetime import datetime"
   ]
  },
  {
   "cell_type": "code",
   "execution_count": 12,
   "id": "84611a2c",
   "metadata": {},
   "outputs": [
    {
     "name": "stdout",
     "output_type": "stream",
     "text": [
      "Total Time: 0:00:41.203590\n"
     ]
    }
   ],
   "source": [
    "start = datetime.now()\n",
    "sp_clustering.fit(X_train_scaled)\n",
    "end = datetime.now()\n",
    "print(\"Total Time: \" + str(end-start))"
   ]
  },
  {
   "cell_type": "markdown",
   "id": "7ff80dea",
   "metadata": {},
   "source": [
    "# Regressione con Lasso\n",
    "\n",
    "La predizione per un nuovo giocatore viene calcolata con il seguente Algoritmo:\n",
    "\n",
    "1. Dato il giocatore di input vengono recuperati tutti i suoi datapoint \"vecchio\", ovvero tutti i suoi dati relativi alle stagioni precedenti.\n",
    "2. Per ognuno dei datapoint \"vecchi\" viene calcolata la distanza tra il datapoint di input ed il datapoint \"vecchio\".\n",
    "3. Le distanze vengono normalizzate: a seconda di quanto dista il datapoint \"nuovo\" dal datapoint \"vecchio\", verranno recuperati un certo numero di neighbors del datapoint \"vecchio\" dal suo Cluster di appartenenza.\n",
    "4. Viene costruito il per la Regressione: qui saranno presenti tutti i datapoint \"vecchi\" e tutti i loro neighbors, in proporzione rispetto alle distanze normalizzate.\n",
    "5. Il Dataset ottenuto è utilizzato per addestrare un modello lineare di LassoRegression."
   ]
  },
  {
   "cell_type": "code",
   "execution_count": 13,
   "id": "6fe38d0e",
   "metadata": {},
   "outputs": [],
   "source": [
    "from sklearn.neighbors import NearestNeighbors"
   ]
  },
  {
   "cell_type": "code",
   "execution_count": 14,
   "id": "e0cfc1a9",
   "metadata": {},
   "outputs": [],
   "source": [
    "def build_regression_dataset(vector, sp_clustering, verbose=False):\n",
    "    \n",
    "    ## STEP 1: Recupero i \"Vecchi Datapoint\"\n",
    "    player_name = vector[\"Player\"].values[0]\n",
    "    old_neighbors = X_train[X_train[\"Player\"] == player_name]\n",
    "    if verbose:\n",
    "        print(\"Ecco i dati precedenti sul Giocatore da te inserito:\")\n",
    "        display(old_neighbors)\n",
    "    \n",
    "    ## STEP 2: Calcolo la distanze del Nuovo Datapoint dai Vecchi Datapoint\n",
    "    nn_tot = 100\n",
    "    \n",
    "    vector = vector[[\"xG\", \"Shots on Target\", \"Shots\", \"Att Pen\", \"Offsides\",\n",
    "                  \"GCA\", \"Carries into Penalty Area\", \"PK Attempted\", \"PK Made\", \"Att 3rd\", \"GCA TO to Goal\", \"Take-Ons Attempted\", \"Take-Ons Successful\",\n",
    "                  \"GCA Shot to Goal\", \"Goals Scored while on Pitch\", \"Carries into Final 1/3\", \"xGS while on Pitch\", \"Matches Played\", \"G/Shots on Target\",\n",
    "                   \"G/Shot\", \"Minutes\", \"Shots on Target%\", \"Shots on Target/90\", \"Shots/90\", \"Mid 3rd\", \"Def 3rd\", \"Def Pen\"]]\n",
    "    scaled_vector = scaler.transform(vector)\n",
    "\n",
    "    distances = np.empty(shape=(old_neighbors.shape[0]))\n",
    "    for idx, i in zip(old_neighbors.index.values, range(0, old_neighbors.shape[0])):\n",
    "        neig = X_train_scaled[idx]\n",
    "        distances[i] = np.linalg.norm((scaled_vector-neig), ord=2)\n",
    "        \n",
    "    ## STEP 3: Normalizzo le Distanze\n",
    "    sum = np.sum(distances)\n",
    "    for i in range(0, len(distances)):\n",
    "        distances[i] = distances[i] / sum\n",
    "    distances = np.round(distances*nn_tot, decimals=0).astype(int)\n",
    "    nn_tot = np.sum(distances)\n",
    "    \n",
    "    ## STEP 4: Costruisco i Dataset per la Regressione\n",
    "    X_reg_dataset = np.zeros(shape=(nn_tot,27)) # Contiene i dati (Feature scalate) relativi ai giocatori identificati come \"simili\" \n",
    "    y_reg_dataset = np.zeros(shape=(nn_tot,1))  # Contiene i gol segnati dai giocatori identificati come \"simili\"\n",
    "    \n",
    "    ds_counter = 0\n",
    "    for idx,dist in zip(old_neighbors.index.values, range(0,len(distances))):\n",
    "        # Ogni datapoint \"vecchio\" del giocatore di input è considerabile come un suo \"simile\".\n",
    "        X_reg_dataset[ds_counter] = X_train_scaled[idx]\n",
    "        y_reg_dataset[ds_counter] = old_neighbors.loc[idx][\"Goals\"]\n",
    "        ds_counter += 1\n",
    "        \n",
    "        # Recuperiamo tutto il Cluster a cui appartiene il datapoint \"vecchio\" che stiamo considerando.\n",
    "        label = sp_clustering.labels_[idx]\n",
    "        indexes = np.where(sp_clustering.labels_ == label)[0].tolist()\n",
    "        cluster = X_train_scaled[indexes]\n",
    "        \n",
    "        # A seconda della distanza \"giocatore di input-datapoint vecchio\" recuperiamo i Nearest Neighbors del datapoint vecchio.\n",
    "        neighbors_finder = NearestNeighbors(n_neighbors=distances[dist], metric='minkowski', p=2)\n",
    "        neighbors_finder.fit(cluster)\n",
    "        \n",
    "        neighbors_found = neighbors_finder.kneighbors(X_reg_dataset[ds_counter-1].reshape(1, -1), return_distance=False)[0]\n",
    "        neighbors_found = neighbors_found[1:] # Si rimuove il primo neighbor, perché è il datapoint vecchio stesso (che è già nel dataset)\n",
    "        \n",
    "        for i in neighbors_found:\n",
    "            dataset_index = indexes[i]\n",
    "            X_reg_dataset[ds_counter] = X_train_scaled[dataset_index]\n",
    "            y_reg_dataset[ds_counter] = X_train.loc[dataset_index][\"Goals\"]\n",
    "            ds_counter += 1\n",
    "            \n",
    "    return scaled_vector, X_reg_dataset, y_reg_dataset"
   ]
  },
  {
   "cell_type": "code",
   "execution_count": 15,
   "id": "99057298",
   "metadata": {},
   "outputs": [],
   "source": [
    "from sklearn.linear_model import Lasso\n",
    "from sklearn.model_selection import GridSearchCV\n",
    "from sklearn.metrics import mean_absolute_error, mean_squared_error, r2_score"
   ]
  },
  {
   "cell_type": "markdown",
   "id": "648c50fe",
   "metadata": {},
   "source": [
    "## Testing su 200 Giocatori\n",
    "I seguenti giocatori sono stati selezionati in modo casuale."
   ]
  },
  {
   "cell_type": "code",
   "execution_count": 16,
   "id": "f6322db3",
   "metadata": {},
   "outputs": [],
   "source": [
    "giocatori_da_testare = ['Achraf Hakimi', 'Adam Lallana', 'Adam Marušić', 'Ademola Lookman', 'Adrien Rabiot', 'Aleksandar Kolarov',\n",
    "'Aleksandr Golovin', 'Aleksei Miranchuk', 'Alessandro Bastoni', 'Alexandre Lacazette', 'Álvaro Morata', 'André Schürrle', 'André Silva',\n",
    "'Andrea Belotti', 'Andreas Cornelius', 'Ángel Di María', 'Ante Rebić', 'Antoine Griezmann', 'Antonín Barák', 'Antonio Candreva',\n",
    "'Antonio Sanabria', 'Arjen Robben', 'Arkadiusz Milik', 'Armando Izzo', 'Ashley Young', 'Axel Witsel', 'Aymeric Laporte',\n",
    "'Brahim Díaz', 'Bram Nuytinck', 'Breel Embolo', 'Bruno Fernandes', 'Bryan Cristante', 'Bukayo Saka', 'Çağlar Söyüncü',\n",
    "'Carlos Soler', 'Casemiro', 'César Azpilicueta', 'Charalambos Lykogiannis', 'Chris Smalling', 'Christian Eriksen', 'Christopher Nkunku',\n",
    "'Cristian Ansaldi', 'Cristiano Biraghi', 'Cristiano Ronaldo', 'Dan-Axel Zagadou', 'Danilo', 'Danny da Costa', 'Darko Lazović', 'David Luiz',\n",
    "'Davide Faraoni', 'Davide Zappacosta', 'Diego Laxalt', 'Domenico Berardi', 'Domenico Criscito', 'Duván Zapata', 'Eden Hazard',\n",
    "'Edin Džeko', 'Edinson Cavani', 'Emil Forsberg', 'Emre Can', 'Fabio Depaoli', 'Federico Bernardeschi', 'Federico Chiesa', 'Federico Dimarco',\n",
    "'Felipe Anderson', 'Filip Đuričić', 'Filip Kostić', 'Francesco Acerbi', 'Gabriel Strefezza', 'Georginio Wijnaldum', 'Gerard Deulofeu',\n",
    "'Gian Marco Ferrari', 'Gianluca Mancini', 'Giorgos Kyriakopoulos', 'Giovanni Simeone', 'Gleison Bremer', 'Gonzalo Higuaín',\n",
    "'Hakan Çalhanoğlu', 'Hans Hateboer', 'Hirving Lozano', 'Houssem Aouar', 'İlkay Gündoğan', 'Ivan Perišić', 'Jack Grealish',\n",
    "'Jakub Jankto', 'James Milner', 'James Rodríguez', 'James Ward-Prowse', 'Jens Stryger Larsen', 'Jeremie Boga', 'Jeremie Frimpong',\n",
    "'João Cancelo', 'João Pedro', 'Joël Matip', 'Jordan Veretout', 'Jordi Alba', 'Jorginho', 'José Luis Palomino', 'Josip Brekalo',\n",
    "'Josip Iličić', 'Juan Bernat', 'Julian Draxler', 'Julian Weigl', 'Kalidou Koulibaly', 'Karim Bellarabi', 'Kerem Demirbay',\n",
    "'Kevin De Bruyne', 'Kevin Volland', 'Kingsley Coman', 'Krzysztof Piątek', 'Lautaro Martínez', 'Layvin Kurzawa', 'Lazar Samardzic',\n",
    "'Leandro Paredes', 'Leon Bailey', 'Lionel Messi', 'Lorenzo De Silvestri', 'Lorenzo Pellegrini', 'Lorenzo Venuti', 'Lucas Hernández',\n",
    "'Lucas Leiva', 'Lucas Martínez Quarta', 'Luis Alberto', 'Luis Muriel', 'Luiz Felipe', 'Luka Jović', 'Luka Modrić', 'Manuel Akanji',\n",
    "'Manuel Lazzari', 'Manuel Locatelli', 'Marcel Sabitzer', 'Marcelo Brozović', 'Marco Asensio', 'Marco Reus', 'Mario Pašalić',\n",
    "'Martin Ødegaard', 'Matteo Darmian', 'Matteo Pessina', 'Matteo Politano', 'Mattia Zaccagni', 'Mesut Özil', 'Michy Batshuayi',\n",
    "'Miguel Veloso', 'Mikel Oyarzabal', 'Nadiem Amiri', 'Nemanja Matić', 'Neymar', 'Nico Schlotterbeck', 'Nicolò Zaniolo',\n",
    "'Nikola Milenković', 'Nikola Vlašić', 'Oleksandr Zinchenko', 'Oscar Hiljemark', 'Ousmane Dembélé', 'Pablo Marí', 'Paco Alcácer',\n",
    "'Papu Gómez', 'Paulo Dybala', 'Phil Foden', 'Pierre Højbjerg', 'Pierre Kalulu', 'Pierre-Emerick Aubameyang', 'Piotr Zieliński',\n",
    "'Rade Krunić', 'Raphaël Guerreiro', 'Raphaël Varane', 'Renato Sanches','Riccardo Orsolini', 'Rick Karsdorp', 'Roberto Pereyra',\n",
    "'Roberto Soriano', 'Robin Gosens', 'Rodrigo De Paul', 'Roger Ibanez', 'Romelu Lukaku', 'Ruslan Malinovskyi', 'Samuel Umtiti',\n",
    "'Sandro Tonali', 'Saúl Ñíguez', 'Seko Fofana', 'Sergej Milinković-Savić', 'Sergio Ramos', 'Silvan Widmer', 'Šime Vrsaljko',\n",
    "'Simon Kjær', 'Simone Verdi', 'Stefan de Vrij', 'Stefan Savić', 'Stevan Jovetić', 'Steven Bergwijn', 'Steven Nzonzi',\n",
    "'Theo Hernández', 'Thiago Alcántara', 'Thomas Müller', 'Thorgan Hazard', 'Timo Werner', 'Tomáš Souček', 'Trent Alexander-Arnold',\n",
    "'Victor Osimhen', 'Virgil van Dijk', 'Weston McKennie', 'Yusuf Yazıcı']"
   ]
  },
  {
   "cell_type": "code",
   "execution_count": 17,
   "id": "7a1ec024",
   "metadata": {
    "scrolled": true
   },
   "outputs": [],
   "source": [
    "giocatori_test_dataset = X_test['Player'].tolist()\n",
    "y_predicted = []\n",
    "y_actual = []\n",
    "\n",
    "report_200 = pd.DataFrame(columns=[\"Player\", \"Squadra\", \"Ruolo\", \"Goal Segnati 22/23\", \"Goal Predetti 22/23\", \"Diff\"])\n",
    "\n",
    "for player in giocatori_da_testare:\n",
    "    if player not in giocatori_test_dataset:\n",
    "        continue\n",
    "    else:\n",
    "        vector = X_test[(X_test[\"Player\"] == player)]\n",
    "        squad = vector[\"Squad\"].values[0]\n",
    "        pos = vector[\"Pos\"].values[0]\n",
    "        \n",
    "        goals_scored = vector[\"Goals\"].values.astype(int)[0]\n",
    "        y_actual.append(goals_scored)\n",
    "        \n",
    "        scaled_vector, X_reg_dataset, y_reg_dataset = build_regression_dataset(vector, sp_clustering)\n",
    "        \n",
    "        regressor = Lasso(tol=1e-5)\n",
    "        hp = {'alpha': [1e-15,1e-10,1e-8,1e-3,1e-2,1,5,10,20,30,35,40,45,50,55,100]}\n",
    "        grid = GridSearchCV(regressor, hp, scoring='neg_mean_squared_error', cv=5)\n",
    "        grid.fit(X=X_reg_dataset, y=y_reg_dataset)\n",
    "        \n",
    "        regressor = Lasso(alpha=grid.best_params_['alpha'], tol=1e-5)\n",
    "        regressor.fit(X=X_reg_dataset, y=y_reg_dataset)\n",
    "        \n",
    "        goals_predicted = regressor.predict(scaled_vector)[0]\n",
    "        if goals_predicted < 0:\n",
    "            goals_predicted = 0 # Attenzione! Il modello può prevedere un numero negativo di Goal segnati...ma ciò non ha senso!\n",
    "        y_predicted.append(goals_predicted)\n",
    "        \n",
    "        diff = np.abs(goals_scored-goals_predicted)\n",
    "        \n",
    "        report_200.loc[len(report_200)] = [player, squad, pos, goals_scored, goals_predicted, diff]"
   ]
  },
  {
   "cell_type": "code",
   "execution_count": 18,
   "id": "6ac6e063",
   "metadata": {
    "scrolled": true
   },
   "outputs": [
    {
     "data": {
      "text/html": [
       "<div>\n",
       "<style scoped>\n",
       "    .dataframe tbody tr th:only-of-type {\n",
       "        vertical-align: middle;\n",
       "    }\n",
       "\n",
       "    .dataframe tbody tr th {\n",
       "        vertical-align: top;\n",
       "    }\n",
       "\n",
       "    .dataframe thead th {\n",
       "        text-align: right;\n",
       "    }\n",
       "</style>\n",
       "<table border=\"1\" class=\"dataframe\">\n",
       "  <thead>\n",
       "    <tr style=\"text-align: right;\">\n",
       "      <th></th>\n",
       "      <th>Player</th>\n",
       "      <th>Squadra</th>\n",
       "      <th>Ruolo</th>\n",
       "      <th>Goal Segnati 22/23</th>\n",
       "      <th>Goal Predetti 22/23</th>\n",
       "      <th>Diff</th>\n",
       "    </tr>\n",
       "  </thead>\n",
       "  <tbody>\n",
       "    <tr>\n",
       "      <th>0</th>\n",
       "      <td>Achraf Hakimi</td>\n",
       "      <td>Paris S-G</td>\n",
       "      <td>DF,MF</td>\n",
       "      <td>5</td>\n",
       "      <td>4.626431</td>\n",
       "      <td>0.373569</td>\n",
       "    </tr>\n",
       "    <tr>\n",
       "      <th>1</th>\n",
       "      <td>Adam Lallana</td>\n",
       "      <td>Brighton</td>\n",
       "      <td>MF,FW</td>\n",
       "      <td>2</td>\n",
       "      <td>1.097353</td>\n",
       "      <td>0.902647</td>\n",
       "    </tr>\n",
       "    <tr>\n",
       "      <th>2</th>\n",
       "      <td>Adam Marušić</td>\n",
       "      <td>Lazio</td>\n",
       "      <td>DF</td>\n",
       "      <td>0</td>\n",
       "      <td>0.000000</td>\n",
       "      <td>0.000000</td>\n",
       "    </tr>\n",
       "    <tr>\n",
       "      <th>3</th>\n",
       "      <td>Ademola Lookman</td>\n",
       "      <td>Atalanta</td>\n",
       "      <td>FW,MF</td>\n",
       "      <td>13</td>\n",
       "      <td>10.227111</td>\n",
       "      <td>2.772889</td>\n",
       "    </tr>\n",
       "    <tr>\n",
       "      <th>4</th>\n",
       "      <td>Adrien Rabiot</td>\n",
       "      <td>Juventus</td>\n",
       "      <td>MF</td>\n",
       "      <td>8</td>\n",
       "      <td>6.339849</td>\n",
       "      <td>1.660151</td>\n",
       "    </tr>\n",
       "    <tr>\n",
       "      <th>...</th>\n",
       "      <td>...</td>\n",
       "      <td>...</td>\n",
       "      <td>...</td>\n",
       "      <td>...</td>\n",
       "      <td>...</td>\n",
       "      <td>...</td>\n",
       "    </tr>\n",
       "    <tr>\n",
       "      <th>168</th>\n",
       "      <td>Tomáš Souček</td>\n",
       "      <td>West Ham</td>\n",
       "      <td>MF</td>\n",
       "      <td>2</td>\n",
       "      <td>2.714116</td>\n",
       "      <td>0.714116</td>\n",
       "    </tr>\n",
       "    <tr>\n",
       "      <th>169</th>\n",
       "      <td>Trent Alexander-Arnold</td>\n",
       "      <td>Liverpool</td>\n",
       "      <td>DF</td>\n",
       "      <td>2</td>\n",
       "      <td>1.759808</td>\n",
       "      <td>0.240192</td>\n",
       "    </tr>\n",
       "    <tr>\n",
       "      <th>170</th>\n",
       "      <td>Victor Osimhen</td>\n",
       "      <td>Napoli</td>\n",
       "      <td>FW</td>\n",
       "      <td>26</td>\n",
       "      <td>23.661624</td>\n",
       "      <td>2.338376</td>\n",
       "    </tr>\n",
       "    <tr>\n",
       "      <th>171</th>\n",
       "      <td>Virgil van Dijk</td>\n",
       "      <td>Liverpool</td>\n",
       "      <td>DF</td>\n",
       "      <td>3</td>\n",
       "      <td>2.480621</td>\n",
       "      <td>0.519379</td>\n",
       "    </tr>\n",
       "    <tr>\n",
       "      <th>172</th>\n",
       "      <td>Weston McKennie</td>\n",
       "      <td>Leeds United</td>\n",
       "      <td>MF</td>\n",
       "      <td>0</td>\n",
       "      <td>0.284753</td>\n",
       "      <td>0.284753</td>\n",
       "    </tr>\n",
       "  </tbody>\n",
       "</table>\n",
       "<p>173 rows × 6 columns</p>\n",
       "</div>"
      ],
      "text/plain": [
       "                     Player       Squadra  Ruolo  Goal Segnati 22/23   \n",
       "0             Achraf Hakimi     Paris S-G  DF,MF                   5  \\\n",
       "1              Adam Lallana      Brighton  MF,FW                   2   \n",
       "2              Adam Marušić         Lazio     DF                   0   \n",
       "3           Ademola Lookman      Atalanta  FW,MF                  13   \n",
       "4             Adrien Rabiot      Juventus     MF                   8   \n",
       "..                      ...           ...    ...                 ...   \n",
       "168            Tomáš Souček      West Ham     MF                   2   \n",
       "169  Trent Alexander-Arnold     Liverpool     DF                   2   \n",
       "170          Victor Osimhen        Napoli     FW                  26   \n",
       "171         Virgil van Dijk     Liverpool     DF                   3   \n",
       "172         Weston McKennie  Leeds United     MF                   0   \n",
       "\n",
       "     Goal Predetti 22/23      Diff  \n",
       "0               4.626431  0.373569  \n",
       "1               1.097353  0.902647  \n",
       "2               0.000000  0.000000  \n",
       "3              10.227111  2.772889  \n",
       "4               6.339849  1.660151  \n",
       "..                   ...       ...  \n",
       "168             2.714116  0.714116  \n",
       "169             1.759808  0.240192  \n",
       "170            23.661624  2.338376  \n",
       "171             2.480621  0.519379  \n",
       "172             0.284753  0.284753  \n",
       "\n",
       "[173 rows x 6 columns]"
      ]
     },
     "metadata": {},
     "output_type": "display_data"
    }
   ],
   "source": [
    "display(report_200)"
   ]
  },
  {
   "cell_type": "code",
   "execution_count": 19,
   "id": "3aa0194e",
   "metadata": {},
   "outputs": [],
   "source": [
    "# Esegui per materializzare il Report_200\n",
    "report_200.to_excel(\"FILEPATH/Report_200 Lasso Regression x SpectralClustering.xlsx\", index=False)"
   ]
  },
  {
   "cell_type": "code",
   "execution_count": 20,
   "id": "aa4b6d9b",
   "metadata": {},
   "outputs": [
    {
     "name": "stdout",
     "output_type": "stream",
     "text": [
      "Errore Quadratico Medio: 2.016404363148232\n",
      "Errore Assoluto Medio: 0.7080398688704524\n",
      "R2 Score:  0.9076851816733768\n"
     ]
    }
   ],
   "source": [
    "print(\"Errore Quadratico Medio:\", mean_squared_error(y_actual, y_predicted))\n",
    "print(\"Errore Assoluto Medio:\", mean_absolute_error(y_actual, y_predicted))\n",
    "print(\"R2 Score: \", r2_score(y_actual, y_predicted))"
   ]
  },
  {
   "cell_type": "markdown",
   "id": "765ad2f6",
   "metadata": {},
   "source": [
    "## Testing sull'intero Test Set"
   ]
  },
  {
   "cell_type": "code",
   "execution_count": 21,
   "id": "4ea45552",
   "metadata": {},
   "outputs": [],
   "source": [
    "giocatori_tot = X_test[\"Player\"].tolist()\n",
    "giocatori_da_testare = []\n",
    "\n",
    "for player in giocatori_tot:\n",
    "    old_neighbors = X_train[X_train[\"Player\"] == player]\n",
    "    if (old_neighbors.shape[0] > 0):\n",
    "        giocatori_da_testare.append(player)"
   ]
  },
  {
   "cell_type": "code",
   "execution_count": 22,
   "id": "0f67a8dc",
   "metadata": {},
   "outputs": [],
   "source": [
    "y_predicted = []\n",
    "y_actual = []\n",
    "\n",
    "full_report = pd.DataFrame(columns=[\"Player\", \"Squadra\", \"Ruolo\", \"Goal Segnati 22/23\", \"Goal Predetti 22/23\", \"Diff\"])\n",
    "\n",
    "for player in giocatori_da_testare:\n",
    "    if player not in giocatori_test_dataset:\n",
    "        continue\n",
    "    else:\n",
    "        vector = X_test[(X_test[\"Player\"] == player)]\n",
    "        squad = vector[\"Squad\"].values[0]\n",
    "        pos = vector[\"Pos\"].values[0]\n",
    "        \n",
    "        goals_scored = vector[\"Goals\"].values.astype(int)[0]\n",
    "        y_actual.append(goals_scored)\n",
    "        \n",
    "        scaled_vector, X_reg_dataset, y_reg_dataset = build_regression_dataset(vector, sp_clustering)\n",
    "        \n",
    "        regressor = Lasso(tol=1e-5)\n",
    "        hp = {'alpha': [1e-15,1e-10,1e-8,1e-3,1e-2,1,5,10,20,30,35,40,45,50,55,100]}\n",
    "        grid = GridSearchCV(regressor, hp, scoring='neg_mean_squared_error', cv=5)\n",
    "        grid.fit(X=X_reg_dataset, y=y_reg_dataset)\n",
    "        \n",
    "        regressor = Lasso(alpha=grid.best_params_['alpha'], tol=1e-5)\n",
    "        regressor.fit(X=X_reg_dataset, y=y_reg_dataset)\n",
    "        \n",
    "        goals_predicted = regressor.predict(scaled_vector)[0]\n",
    "        if goals_predicted < 0:\n",
    "            goals_predicted = 0 # Attenzione! Il modello può prevedere un numero negativo di Goal segnati...ma ciò non ha senso!\n",
    "        y_predicted.append(goals_predicted)\n",
    "        \n",
    "        diff = np.abs(goals_scored-goals_predicted)\n",
    "        \n",
    "        full_report.loc[len(full_report)] = [player, squad, pos, goals_scored, goals_predicted, diff]"
   ]
  },
  {
   "cell_type": "code",
   "execution_count": 23,
   "id": "7a553d42",
   "metadata": {},
   "outputs": [],
   "source": [
    "# Esegui per materializzare il Full_Report\n",
    "full_report.to_excel(\"FILEPATH/Full Report Lasso Regression x SpectralClustering.xlsx\", index=False)"
   ]
  },
  {
   "cell_type": "code",
   "execution_count": 24,
   "id": "0b376133",
   "metadata": {},
   "outputs": [
    {
     "name": "stdout",
     "output_type": "stream",
     "text": [
      "Errore Quadratico Medio: 1.159457366119909\n",
      "Errore Assoluto Medio: 0.539931998123576\n",
      "R2 Score:  0.9129352125612825\n"
     ]
    }
   ],
   "source": [
    "print(\"Errore Quadratico Medio:\", mean_squared_error(y_actual, y_predicted))\n",
    "print(\"Errore Assoluto Medio:\", mean_absolute_error(y_actual, y_predicted))\n",
    "print(\"R2 Score: \", r2_score(y_actual, y_predicted))"
   ]
  }
 ],
 "metadata": {
  "kernelspec": {
   "display_name": "Python 3 (ipykernel)",
   "language": "python",
   "name": "python3"
  },
  "language_info": {
   "codemirror_mode": {
    "name": "ipython",
    "version": 3
   },
   "file_extension": ".py",
   "mimetype": "text/x-python",
   "name": "python",
   "nbconvert_exporter": "python",
   "pygments_lexer": "ipython3",
   "version": "3.9.16"
  }
 },
 "nbformat": 4,
 "nbformat_minor": 5
}

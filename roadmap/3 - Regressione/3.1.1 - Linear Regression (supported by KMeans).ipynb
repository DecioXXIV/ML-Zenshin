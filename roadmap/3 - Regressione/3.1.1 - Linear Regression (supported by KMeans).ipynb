{
 "cells": [
  {
   "cell_type": "markdown",
   "id": "38f3f731",
   "metadata": {},
   "source": [
    "Il presente Notebook illustra un esempio di Regressione, svolto con il Modello della Regressione Lineare."
   ]
  },
  {
   "cell_type": "code",
   "execution_count": 1,
   "id": "e1976f86",
   "metadata": {},
   "outputs": [],
   "source": [
    "import sklearn\n",
    "import pandas as pd\n",
    "import numpy as np"
   ]
  },
  {
   "cell_type": "code",
   "execution_count": 2,
   "id": "1c8fb2fa",
   "metadata": {},
   "outputs": [],
   "source": [
    "data_1722 = pd.read_csv(\"../../dataset/Train Set 1722.csv\")\n",
    "data_2223 = pd.read_csv(\"../../dataset/Test Set 2223.csv\")\n",
    "data_total = pd.concat([data_1722, data_2223], axis=0)"
   ]
  },
  {
   "cell_type": "markdown",
   "id": "2f6d9d31",
   "metadata": {},
   "source": [
    "# Caricamento e Preparazione del Dataset"
   ]
  },
  {
   "cell_type": "markdown",
   "id": "b2215209",
   "metadata": {},
   "source": [
    "## Feature Selection e Rimozione degli Outlier (Partite Giocate & Minuti Giocati)"
   ]
  },
  {
   "cell_type": "code",
   "execution_count": 3,
   "id": "87120563",
   "metadata": {},
   "outputs": [],
   "source": [
    "data_total = data_total[[\"Player\", \"Pos\", \"Squad\", \"Age\", \"Season\", \"Goals\", \"xG\", \"Shots on Target\", \"Shots\", \"Att Pen\", \"Offsides\",\n",
    "                  \"GCA\", \"Carries into Penalty Area\", \"PK Attempted\", \"PK Made\", \"Att 3rd\", \"GCA TO to Goal\", \"Take-Ons Attempted\", \"Take-Ons Successful\",\n",
    "                  \"GCA Shot to Goal\", \"Goals Scored while on Pitch\", \"Carries into Final 1/3\", \"xGS while on Pitch\", \"Matches Played\", \"G/Shots on Target\",\n",
    "                   \"G/Shot\", \"Minutes\", \"Shots on Target%\", \"Shots on Target/90\", \"Shots/90\", \"Mid 3rd\", \"Def 3rd\", \"Def Pen\"]]\n",
    "\n",
    "data_total = data_total.dropna(how=\"any\")\n",
    "data_total = data_total[(data_total[\"Matches Played\"] >= 5) & (data_total[\"Minutes\"] >= 343)]\n",
    "data_total.reset_index(drop=True, inplace=True)"
   ]
  },
  {
   "cell_type": "code",
   "execution_count": 4,
   "id": "ff68792a",
   "metadata": {},
   "outputs": [],
   "source": [
    "X_train = data_total[data_total[\"Season\"] != 2223]\n",
    "X_test = data_total[data_total[\"Season\"] == 2223]"
   ]
  },
  {
   "cell_type": "markdown",
   "id": "d2dae933",
   "metadata": {},
   "source": [
    "## Scaling"
   ]
  },
  {
   "cell_type": "code",
   "execution_count": 5,
   "id": "7e8ea503",
   "metadata": {},
   "outputs": [],
   "source": [
    "from sklearn.preprocessing import StandardScaler\n",
    "scaler = StandardScaler()"
   ]
  },
  {
   "cell_type": "code",
   "execution_count": 6,
   "id": "e38fdd1f",
   "metadata": {},
   "outputs": [],
   "source": [
    "X_train_to_scale = X_train[[\"xG\", \"Shots on Target\", \"Shots\", \"Att Pen\", \"Offsides\",\n",
    "                  \"GCA\", \"Carries into Penalty Area\", \"PK Attempted\", \"PK Made\", \"Att 3rd\", \"GCA TO to Goal\", \"Take-Ons Attempted\", \"Take-Ons Successful\",\n",
    "                  \"GCA Shot to Goal\", \"Goals Scored while on Pitch\", \"Carries into Final 1/3\", \"xGS while on Pitch\", \"Matches Played\", \"G/Shots on Target\",\n",
    "                   \"G/Shot\", \"Minutes\", \"Shots on Target%\", \"Shots on Target/90\", \"Shots/90\", \"Mid 3rd\", \"Def 3rd\", \"Def Pen\"]]\n",
    "\n",
    "X_test_to_scale = X_test[[\"xG\", \"Shots on Target\", \"Shots\", \"Att Pen\", \"Offsides\",\n",
    "                  \"GCA\", \"Carries into Penalty Area\", \"PK Attempted\", \"PK Made\", \"Att 3rd\", \"GCA TO to Goal\", \"Take-Ons Attempted\", \"Take-Ons Successful\",\n",
    "                  \"GCA Shot to Goal\", \"Goals Scored while on Pitch\", \"Carries into Final 1/3\", \"xGS while on Pitch\", \"Matches Played\", \"G/Shots on Target\",\n",
    "                   \"G/Shot\", \"Minutes\", \"Shots on Target%\", \"Shots on Target/90\", \"Shots/90\", \"Mid 3rd\", \"Def 3rd\", \"Def Pen\"]]"
   ]
  },
  {
   "cell_type": "code",
   "execution_count": 7,
   "id": "156f2c24",
   "metadata": {},
   "outputs": [],
   "source": [
    "X_train_scaled = scaler.fit_transform(X_train_to_scale)\n",
    "X_test_scaled = scaler.transform(X_test_to_scale)"
   ]
  },
  {
   "cell_type": "markdown",
   "id": "b57c688f",
   "metadata": {},
   "source": [
    "## Riduzione di Dimensionalità"
   ]
  },
  {
   "cell_type": "code",
   "execution_count": 8,
   "id": "250d5745",
   "metadata": {},
   "outputs": [],
   "source": [
    "from sklearn.decomposition import PCA\n",
    "pca = PCA(n_components = 0.95)"
   ]
  },
  {
   "cell_type": "code",
   "execution_count": 9,
   "id": "dd63a49f",
   "metadata": {},
   "outputs": [],
   "source": [
    "X_train_pca = pca.fit_transform(X_train_scaled)\n",
    "X_test_pca = pca.transform(X_test_scaled)"
   ]
  },
  {
   "cell_type": "code",
   "execution_count": 10,
   "id": "b0299c1f",
   "metadata": {},
   "outputs": [
    {
     "name": "stdout",
     "output_type": "stream",
     "text": [
      "Dimensioni del Training Set nello Spazio delle Feature:  (10403, 27)\n",
      "Dimensioni del Training Set nello Spazio Ridotto:  (10403, 12)\n",
      "\n",
      "Dimensioni del Test Set nello Spazio delle Feature:  (2133, 27)\n",
      "Dimensioni del Test Set nello Spazio Ridotto:  (2133, 12)\n"
     ]
    }
   ],
   "source": [
    "print(\"Dimensioni del Training Set nello Spazio delle Feature: \", X_train_to_scale.shape)\n",
    "print(\"Dimensioni del Training Set nello Spazio Ridotto: \", X_train_pca.shape)\n",
    "\n",
    "print()\n",
    "\n",
    "print(\"Dimensioni del Test Set nello Spazio delle Feature: \", X_test_to_scale.shape)\n",
    "print(\"Dimensioni del Test Set nello Spazio Ridotto: \", X_test_pca.shape)"
   ]
  },
  {
   "cell_type": "markdown",
   "id": "eac9e6d3",
   "metadata": {},
   "source": [
    "# Clustering con K-Means"
   ]
  },
  {
   "cell_type": "code",
   "execution_count": 11,
   "id": "8cad54bc",
   "metadata": {},
   "outputs": [],
   "source": [
    "from sklearn.cluster import KMeans"
   ]
  },
  {
   "cell_type": "code",
   "execution_count": 12,
   "id": "194dc7b7",
   "metadata": {},
   "outputs": [],
   "source": [
    "kmeans = KMeans(init=\"k-means++\", n_init=2000, n_clusters=5, max_iter=50000, random_state=24)"
   ]
  },
  {
   "cell_type": "code",
   "execution_count": 13,
   "id": "8cac1b4b",
   "metadata": {},
   "outputs": [],
   "source": [
    "from datetime import datetime"
   ]
  },
  {
   "cell_type": "code",
   "execution_count": 14,
   "id": "84611a2c",
   "metadata": {},
   "outputs": [
    {
     "name": "stdout",
     "output_type": "stream",
     "text": [
      "Total Time: 0:00:24.039999\n"
     ]
    }
   ],
   "source": [
    "start = datetime.now()\n",
    "kmeans.fit(X_train_pca)\n",
    "end = datetime.now()\n",
    "print(\"Total Time: \" + str(end-start))"
   ]
  },
  {
   "cell_type": "markdown",
   "id": "22c190bf",
   "metadata": {},
   "source": [
    "# Regressione con LinearRegression\n",
    "\n",
    "La predizione per un nuovo giocatore viene calcolata con il seguente Algoritmo:\n",
    "1. Dato il giocatore di input vengono recuperati tutti i suoi datapoint \"vecchio\", ovvero tutti i suoi dati relativi alle stagioni precedenti.\n",
    "2. Per ognuno dei datapoint \"vecchi\" viene calcolata la distanza tra il datapoint di input ed il datapoint \"vecchio\".\n",
    "3. Le distanze vengono normalizzate: a seconda di quanto dista il datapoint \"nuovo\" dal datapoint \"vecchio\", verranno recuperati un certo numero di *neighbors* del datapoint \"vecchio\" dal suo Cluster di appartenenza.\n",
    "4. Viene costruito il per la Regressione: qui saranno presenti tutti i datapoint \"vecchi\" e tutti i loro *neighbors*, in proporzione rispetto alle distanze normalizzate.\n",
    "5. Il Dataset ottenuto è utilizzato per addestrare un modello lineare di Regressione."
   ]
  },
  {
   "cell_type": "code",
   "execution_count": 15,
   "id": "6fe38d0e",
   "metadata": {},
   "outputs": [],
   "source": [
    "from sklearn.neighbors import NearestNeighbors"
   ]
  },
  {
   "cell_type": "code",
   "execution_count": 16,
   "id": "e0cfc1a9",
   "metadata": {},
   "outputs": [],
   "source": [
    "def build_regression_dataset(vector, kmeans, verbose=False):\n",
    "    \n",
    "    ## STEP 1: Recupero i \"Vecchi Datapoint\"\n",
    "    player_name = vector[\"Player\"].values[0]\n",
    "    old_neighbors = X_train[X_train[\"Player\"] == player_name]\n",
    "    if verbose:\n",
    "        print(\"Ecco i dati precedenti sul Giocatore da te inserito:\")\n",
    "        display(old_neighbors)\n",
    "    \n",
    "    ## STEP 2: Calcolo la distanze del Nuovo Datapoint dai Vecchi Datapoint\n",
    "    nn_tot = 100\n",
    "    \n",
    "    vector = vector[[\"xG\", \"Shots on Target\", \"Shots\", \"Att Pen\", \"Offsides\",\n",
    "                  \"GCA\", \"Carries into Penalty Area\", \"PK Attempted\", \"PK Made\", \"Att 3rd\", \"GCA TO to Goal\", \"Take-Ons Attempted\", \"Take-Ons Successful\",\n",
    "                  \"GCA Shot to Goal\", \"Goals Scored while on Pitch\", \"Carries into Final 1/3\", \"xGS while on Pitch\", \"Matches Played\", \"G/Shots on Target\",\n",
    "                   \"G/Shot\", \"Minutes\", \"Shots on Target%\", \"Shots on Target/90\", \"Shots/90\", \"Mid 3rd\", \"Def 3rd\", \"Def Pen\"]]\n",
    "    scaled_vector = scaler.transform(vector)\n",
    "\n",
    "    distances = np.empty(shape=(old_neighbors.shape[0]))\n",
    "    for idx, i in zip(old_neighbors.index.values, range(0, old_neighbors.shape[0])):\n",
    "        neig = X_train_scaled[idx]\n",
    "        distances[i] = np.linalg.norm((scaled_vector-neig), ord=2)\n",
    "        \n",
    "    ## STEP 3: Normalizzo le Distanze\n",
    "    sum = np.sum(distances)\n",
    "    for i in range(0, len(distances)):\n",
    "        distances[i] = distances[i] / sum\n",
    "    distances = np.round(distances*nn_tot, decimals=0).astype(int)\n",
    "    nn_tot = np.sum(distances)\n",
    "    \n",
    "    ## STEP 4: Costruisco i Dataset per la Regressione\n",
    "    X_reg_dataset = np.zeros(shape=(nn_tot,27)) # Contiene i dati (Feature scalate) relativi ai giocatori identificati come \"simili\" \n",
    "    y_reg_dataset = np.zeros(shape=(nn_tot,1))  # Contiene i gol segnati dai giocatori identificati come \"simili\"\n",
    "    \n",
    "    ds_counter = 0\n",
    "    for idx,dist in zip(old_neighbors.index.values, range(0,len(distances))):\n",
    "        # Ogni datapoint \"vecchio\" del giocatore di input è considerabile come un suo \"simile\".\n",
    "        X_reg_dataset[ds_counter] = X_train_scaled[idx]\n",
    "        y_reg_dataset[ds_counter] = old_neighbors.loc[idx][\"Goals\"]\n",
    "        ds_counter += 1\n",
    "        \n",
    "        # Recuperiamo tutto il Cluster a cui appartiene il datapoint \"vecchio\" che stiamo considerando.\n",
    "        label = kmeans.labels_[idx]\n",
    "        indexes = np.where(kmeans.labels_ == label)[0].tolist()\n",
    "        cluster = X_train_scaled[indexes]\n",
    "        \n",
    "        # A seconda della distanza \"giocatore di input-datapoint vecchio\" recuperiamo i Nearest Neighbors del datapoint vecchio.\n",
    "        neighbors_finder = NearestNeighbors(n_neighbors=distances[dist], metric='minkowski', p=2)\n",
    "        neighbors_finder.fit(cluster)\n",
    "        \n",
    "        neighbors_found = neighbors_finder.kneighbors(X_reg_dataset[ds_counter-1].reshape(1, -1), return_distance=False)[0]\n",
    "        neighbors_found = neighbors_found[1:] # Si rimuove il primo neighbor, perché è il datapoint vecchio stesso (che è già nel dataset)\n",
    "        \n",
    "        for i in neighbors_found:\n",
    "            dataset_index = indexes[i]\n",
    "            X_reg_dataset[ds_counter] = X_train_scaled[dataset_index]\n",
    "            y_reg_dataset[ds_counter] = X_train.loc[dataset_index][\"Goals\"]\n",
    "            ds_counter += 1\n",
    "            \n",
    "    return scaled_vector, X_reg_dataset, y_reg_dataset"
   ]
  },
  {
   "cell_type": "code",
   "execution_count": 17,
   "id": "7d1775ec",
   "metadata": {},
   "outputs": [],
   "source": [
    "from sklearn.linear_model import LinearRegression\n",
    "from sklearn.metrics import mean_absolute_error, mean_squared_error, r2_score"
   ]
  },
  {
   "cell_type": "code",
   "execution_count": 18,
   "id": "1400dbb8",
   "metadata": {},
   "outputs": [],
   "source": [
    "regressor = LinearRegression()"
   ]
  },
  {
   "cell_type": "markdown",
   "id": "3035a630",
   "metadata": {},
   "source": [
    "## Testing su 200 Giocatori\n",
    "I seguenti giocatori sono stati selezionati in modo casuale."
   ]
  },
  {
   "cell_type": "code",
   "execution_count": 19,
   "id": "740ef82d",
   "metadata": {},
   "outputs": [],
   "source": [
    "giocatori_da_testare = ['Achraf Hakimi', 'Adam Lallana', 'Adam Marušić', 'Ademola Lookman', 'Adrien Rabiot', 'Aleksandar Kolarov',\n",
    "'Aleksandr Golovin', 'Aleksei Miranchuk', 'Alessandro Bastoni', 'Alexandre Lacazette', 'Álvaro Morata', 'André Schürrle', 'André Silva',\n",
    "'Andrea Belotti', 'Andreas Cornelius', 'Ángel Di María', 'Ante Rebić', 'Antoine Griezmann', 'Antonín Barák', 'Antonio Candreva',\n",
    "'Antonio Sanabria', 'Arjen Robben', 'Arkadiusz Milik', 'Armando Izzo', 'Ashley Young', 'Axel Witsel', 'Aymeric Laporte',\n",
    "'Brahim Díaz', 'Bram Nuytinck', 'Breel Embolo', 'Bruno Fernandes', 'Bryan Cristante', 'Bukayo Saka', 'Çağlar Söyüncü',\n",
    "'Carlos Soler', 'Casemiro', 'César Azpilicueta', 'Charalambos Lykogiannis', 'Chris Smalling', 'Christian Eriksen', 'Christopher Nkunku',\n",
    "'Cristian Ansaldi', 'Cristiano Biraghi', 'Cristiano Ronaldo', 'Dan-Axel Zagadou', 'Danilo', 'Danny da Costa', 'Darko Lazović', 'David Luiz',\n",
    "'Davide Faraoni', 'Davide Zappacosta', 'Diego Laxalt', 'Domenico Berardi', 'Domenico Criscito', 'Duván Zapata', 'Eden Hazard',\n",
    "'Edin Džeko', 'Edinson Cavani', 'Emil Forsberg', 'Emre Can', 'Fabio Depaoli', 'Federico Bernardeschi', 'Federico Chiesa', 'Federico Dimarco',\n",
    "'Felipe Anderson', 'Filip Đuričić', 'Filip Kostić', 'Francesco Acerbi', 'Gabriel Strefezza', 'Georginio Wijnaldum', 'Gerard Deulofeu',\n",
    "'Gian Marco Ferrari', 'Gianluca Mancini', 'Giorgos Kyriakopoulos', 'Giovanni Simeone', 'Gleison Bremer', 'Gonzalo Higuaín',\n",
    "'Hakan Çalhanoğlu', 'Hans Hateboer', 'Hirving Lozano', 'Houssem Aouar', 'İlkay Gündoğan', 'Ivan Perišić', 'Jack Grealish',\n",
    "'Jakub Jankto', 'James Milner', 'James Rodríguez', 'James Ward-Prowse', 'Jens Stryger Larsen', 'Jeremie Boga', 'Jeremie Frimpong',\n",
    "'João Cancelo', 'João Pedro', 'Joël Matip', 'Jordan Veretout', 'Jordi Alba', 'Jorginho', 'José Luis Palomino', 'Josip Brekalo',\n",
    "'Josip Iličić', 'Juan Bernat', 'Julian Draxler', 'Julian Weigl', 'Kalidou Koulibaly', 'Karim Bellarabi', 'Kerem Demirbay',\n",
    "'Kevin De Bruyne', 'Kevin Volland', 'Kingsley Coman', 'Krzysztof Piątek', 'Lautaro Martínez', 'Layvin Kurzawa', 'Lazar Samardzic',\n",
    "'Leandro Paredes', 'Leon Bailey', 'Lionel Messi', 'Lorenzo De Silvestri', 'Lorenzo Pellegrini', 'Lorenzo Venuti', 'Lucas Hernández',\n",
    "'Lucas Leiva', 'Lucas Martínez Quarta', 'Luis Alberto', 'Luis Muriel', 'Luiz Felipe', 'Luka Jović', 'Luka Modrić', 'Manuel Akanji',\n",
    "'Manuel Lazzari', 'Manuel Locatelli', 'Marcel Sabitzer', 'Marcelo Brozović', 'Marco Asensio', 'Marco Reus', 'Mario Pašalić',\n",
    "'Martin Ødegaard', 'Matteo Darmian', 'Matteo Pessina', 'Matteo Politano', 'Mattia Zaccagni', 'Mesut Özil', 'Michy Batshuayi',\n",
    "'Miguel Veloso', 'Mikel Oyarzabal', 'Nadiem Amiri', 'Nemanja Matić', 'Neymar', 'Nico Schlotterbeck', 'Nicolò Zaniolo',\n",
    "'Nikola Milenković', 'Nikola Vlašić', 'Oleksandr Zinchenko', 'Oscar Hiljemark', 'Ousmane Dembélé', 'Pablo Marí', 'Paco Alcácer',\n",
    "'Papu Gómez', 'Paulo Dybala', 'Phil Foden', 'Pierre Højbjerg', 'Pierre Kalulu', 'Pierre-Emerick Aubameyang', 'Piotr Zieliński',\n",
    "'Rade Krunić', 'Raphaël Guerreiro', 'Raphaël Varane', 'Renato Sanches','Riccardo Orsolini', 'Rick Karsdorp', 'Roberto Pereyra',\n",
    "'Roberto Soriano', 'Robin Gosens', 'Rodrigo De Paul', 'Roger Ibanez', 'Romelu Lukaku', 'Ruslan Malinovskyi', 'Samuel Umtiti',\n",
    "'Sandro Tonali', 'Saúl Ñíguez', 'Seko Fofana', 'Sergej Milinković-Savić', 'Sergio Ramos', 'Silvan Widmer', 'Šime Vrsaljko',\n",
    "'Simon Kjær', 'Simone Verdi', 'Stefan de Vrij', 'Stefan Savić', 'Stevan Jovetić', 'Steven Bergwijn', 'Steven Nzonzi',\n",
    "'Theo Hernández', 'Thiago Alcántara', 'Thomas Müller', 'Thorgan Hazard', 'Timo Werner', 'Tomáš Souček', 'Trent Alexander-Arnold',\n",
    "'Victor Osimhen', 'Virgil van Dijk', 'Weston McKennie', 'Yusuf Yazıcı']"
   ]
  },
  {
   "cell_type": "code",
   "execution_count": 20,
   "id": "7a1ec024",
   "metadata": {},
   "outputs": [],
   "source": [
    "giocatori_test_dataset = X_test['Player'].tolist()\n",
    "y_predicted = []\n",
    "y_actual = []\n",
    "\n",
    "report_200 = pd.DataFrame(columns=[\"Player\", \"Squadra\", \"Ruolo\", \"Goal Segnati 22/23\", \"Goal Predetti 22/23\", \"Diff\"])\n",
    "\n",
    "for player in giocatori_da_testare:\n",
    "    if player not in giocatori_test_dataset:\n",
    "        continue\n",
    "    else:\n",
    "        vector = X_test[(X_test[\"Player\"] == player)]\n",
    "        squad = vector[\"Squad\"].values[0]\n",
    "        pos = vector[\"Pos\"].values[0]\n",
    "        \n",
    "        goals_scored = vector[\"Goals\"].values.astype(int)[0]\n",
    "        y_actual.append(goals_scored)\n",
    "        \n",
    "        scaled_vector, X_reg_dataset, y_reg_dataset = build_regression_dataset(vector, kmeans)\n",
    "        regressor.fit(X=X_reg_dataset, y=y_reg_dataset)\n",
    "        \n",
    "        goals_predicted = regressor.predict(scaled_vector)[0][0]\n",
    "        if goals_predicted < 0:\n",
    "            goals_predicted = 0 # Attenzione! Il modello può prevedere un numero negativo di Goal segnati...ma ciò non ha senso!\n",
    "        y_predicted.append(goals_predicted)\n",
    "        \n",
    "        diff = np.abs(goals_scored-goals_predicted)\n",
    "        \n",
    "        report_200.loc[len(report_200)] = [player, squad, pos, goals_scored, goals_predicted, diff]"
   ]
  },
  {
   "cell_type": "code",
   "execution_count": 21,
   "id": "6ac6e063",
   "metadata": {},
   "outputs": [
    {
     "data": {
      "text/html": [
       "<div>\n",
       "<style scoped>\n",
       "    .dataframe tbody tr th:only-of-type {\n",
       "        vertical-align: middle;\n",
       "    }\n",
       "\n",
       "    .dataframe tbody tr th {\n",
       "        vertical-align: top;\n",
       "    }\n",
       "\n",
       "    .dataframe thead th {\n",
       "        text-align: right;\n",
       "    }\n",
       "</style>\n",
       "<table border=\"1\" class=\"dataframe\">\n",
       "  <thead>\n",
       "    <tr style=\"text-align: right;\">\n",
       "      <th></th>\n",
       "      <th>Player</th>\n",
       "      <th>Squadra</th>\n",
       "      <th>Ruolo</th>\n",
       "      <th>Goal Segnati 22/23</th>\n",
       "      <th>Goal Predetti 22/23</th>\n",
       "      <th>Diff</th>\n",
       "    </tr>\n",
       "  </thead>\n",
       "  <tbody>\n",
       "    <tr>\n",
       "      <th>0</th>\n",
       "      <td>Achraf Hakimi</td>\n",
       "      <td>Paris S-G</td>\n",
       "      <td>DF,MF</td>\n",
       "      <td>5</td>\n",
       "      <td>4.481873</td>\n",
       "      <td>0.518127</td>\n",
       "    </tr>\n",
       "    <tr>\n",
       "      <th>1</th>\n",
       "      <td>Adam Lallana</td>\n",
       "      <td>Brighton</td>\n",
       "      <td>MF,FW</td>\n",
       "      <td>2</td>\n",
       "      <td>0.465881</td>\n",
       "      <td>1.534119</td>\n",
       "    </tr>\n",
       "    <tr>\n",
       "      <th>2</th>\n",
       "      <td>Adam Marušić</td>\n",
       "      <td>Lazio</td>\n",
       "      <td>DF</td>\n",
       "      <td>0</td>\n",
       "      <td>0.000000</td>\n",
       "      <td>0.000000</td>\n",
       "    </tr>\n",
       "    <tr>\n",
       "      <th>3</th>\n",
       "      <td>Ademola Lookman</td>\n",
       "      <td>Atalanta</td>\n",
       "      <td>FW,MF</td>\n",
       "      <td>13</td>\n",
       "      <td>10.634208</td>\n",
       "      <td>2.365792</td>\n",
       "    </tr>\n",
       "    <tr>\n",
       "      <th>4</th>\n",
       "      <td>Adrien Rabiot</td>\n",
       "      <td>Juventus</td>\n",
       "      <td>MF</td>\n",
       "      <td>8</td>\n",
       "      <td>7.037292</td>\n",
       "      <td>0.962708</td>\n",
       "    </tr>\n",
       "    <tr>\n",
       "      <th>...</th>\n",
       "      <td>...</td>\n",
       "      <td>...</td>\n",
       "      <td>...</td>\n",
       "      <td>...</td>\n",
       "      <td>...</td>\n",
       "      <td>...</td>\n",
       "    </tr>\n",
       "    <tr>\n",
       "      <th>168</th>\n",
       "      <td>Tomáš Souček</td>\n",
       "      <td>West Ham</td>\n",
       "      <td>MF</td>\n",
       "      <td>2</td>\n",
       "      <td>2.815929</td>\n",
       "      <td>0.815929</td>\n",
       "    </tr>\n",
       "    <tr>\n",
       "      <th>169</th>\n",
       "      <td>Trent Alexander-Arnold</td>\n",
       "      <td>Liverpool</td>\n",
       "      <td>DF</td>\n",
       "      <td>2</td>\n",
       "      <td>2.212113</td>\n",
       "      <td>0.212113</td>\n",
       "    </tr>\n",
       "    <tr>\n",
       "      <th>170</th>\n",
       "      <td>Victor Osimhen</td>\n",
       "      <td>Napoli</td>\n",
       "      <td>FW</td>\n",
       "      <td>26</td>\n",
       "      <td>23.409912</td>\n",
       "      <td>2.590088</td>\n",
       "    </tr>\n",
       "    <tr>\n",
       "      <th>171</th>\n",
       "      <td>Virgil van Dijk</td>\n",
       "      <td>Liverpool</td>\n",
       "      <td>DF</td>\n",
       "      <td>3</td>\n",
       "      <td>2.726317</td>\n",
       "      <td>0.273683</td>\n",
       "    </tr>\n",
       "    <tr>\n",
       "      <th>172</th>\n",
       "      <td>Weston McKennie</td>\n",
       "      <td>Leeds United</td>\n",
       "      <td>MF</td>\n",
       "      <td>0</td>\n",
       "      <td>0.000000</td>\n",
       "      <td>0.000000</td>\n",
       "    </tr>\n",
       "  </tbody>\n",
       "</table>\n",
       "<p>173 rows × 6 columns</p>\n",
       "</div>"
      ],
      "text/plain": [
       "                     Player       Squadra  Ruolo  Goal Segnati 22/23   \n",
       "0             Achraf Hakimi     Paris S-G  DF,MF                   5  \\\n",
       "1              Adam Lallana      Brighton  MF,FW                   2   \n",
       "2              Adam Marušić         Lazio     DF                   0   \n",
       "3           Ademola Lookman      Atalanta  FW,MF                  13   \n",
       "4             Adrien Rabiot      Juventus     MF                   8   \n",
       "..                      ...           ...    ...                 ...   \n",
       "168            Tomáš Souček      West Ham     MF                   2   \n",
       "169  Trent Alexander-Arnold     Liverpool     DF                   2   \n",
       "170          Victor Osimhen        Napoli     FW                  26   \n",
       "171         Virgil van Dijk     Liverpool     DF                   3   \n",
       "172         Weston McKennie  Leeds United     MF                   0   \n",
       "\n",
       "     Goal Predetti 22/23      Diff  \n",
       "0               4.481873  0.518127  \n",
       "1               0.465881  1.534119  \n",
       "2               0.000000  0.000000  \n",
       "3              10.634208  2.365792  \n",
       "4               7.037292  0.962708  \n",
       "..                   ...       ...  \n",
       "168             2.815929  0.815929  \n",
       "169             2.212113  0.212113  \n",
       "170            23.409912  2.590088  \n",
       "171             2.726317  0.273683  \n",
       "172             0.000000  0.000000  \n",
       "\n",
       "[173 rows x 6 columns]"
      ]
     },
     "metadata": {},
     "output_type": "display_data"
    }
   ],
   "source": [
    "display(report_200)"
   ]
  },
  {
   "cell_type": "code",
   "execution_count": 22,
   "id": "3aa0194e",
   "metadata": {},
   "outputs": [],
   "source": [
    "# Esegui per materializzare il Report_200\n",
    "report_200.to_excel(\"FILEPATH/Report_200 Linear Regression x KMeans.xlsx\", index=False)"
   ]
  },
  {
   "cell_type": "code",
   "execution_count": 23,
   "id": "aa4b6d9b",
   "metadata": {},
   "outputs": [
    {
     "name": "stdout",
     "output_type": "stream",
     "text": [
      "Errore Quadratico Medio: 1.568682879757497e+21\n",
      "Errore Assoluto Medio: 3011234149.132963\n",
      "R2 Score:  -7.18172791645819e+19\n"
     ]
    }
   ],
   "source": [
    "print(\"Errore Quadratico Medio:\", mean_squared_error(y_actual, y_predicted))\n",
    "print(\"Errore Assoluto Medio:\", mean_absolute_error(y_actual, y_predicted))\n",
    "print(\"R2 Score: \", r2_score(y_actual, y_predicted))"
   ]
  },
  {
   "cell_type": "markdown",
   "id": "ac4dba9d",
   "metadata": {},
   "source": [
    "Palesemente, ci sono dei sample che rompono il Modello. \n",
    "Osserviamo quali, cercando tutti i sample per cui la predizione è completamente sballata: almeno pari a 10 volte il numero di Goal Realmente segnati."
   ]
  },
  {
   "cell_type": "code",
   "execution_count": 24,
   "id": "554bf68b",
   "metadata": {
    "scrolled": true
   },
   "outputs": [
    {
     "data": {
      "text/html": [
       "<div>\n",
       "<style scoped>\n",
       "    .dataframe tbody tr th:only-of-type {\n",
       "        vertical-align: middle;\n",
       "    }\n",
       "\n",
       "    .dataframe tbody tr th {\n",
       "        vertical-align: top;\n",
       "    }\n",
       "\n",
       "    .dataframe thead th {\n",
       "        text-align: right;\n",
       "    }\n",
       "</style>\n",
       "<table border=\"1\" class=\"dataframe\">\n",
       "  <thead>\n",
       "    <tr style=\"text-align: right;\">\n",
       "      <th></th>\n",
       "      <th>Player</th>\n",
       "      <th>Squadra</th>\n",
       "      <th>Ruolo</th>\n",
       "      <th>Goal Segnati 22/23</th>\n",
       "      <th>Goal Predetti 22/23</th>\n",
       "      <th>Diff</th>\n",
       "    </tr>\n",
       "  </thead>\n",
       "  <tbody>\n",
       "    <tr>\n",
       "      <th>84</th>\n",
       "      <td>Julian Weigl</td>\n",
       "      <td>M'Gladbach</td>\n",
       "      <td>MF</td>\n",
       "      <td>1</td>\n",
       "      <td>5.209435e+11</td>\n",
       "      <td>5.209435e+11</td>\n",
       "    </tr>\n",
       "  </tbody>\n",
       "</table>\n",
       "</div>"
      ],
      "text/plain": [
       "          Player     Squadra Ruolo  Goal Segnati 22/23  Goal Predetti 22/23   \n",
       "84  Julian Weigl  M'Gladbach    MF                   1         5.209435e+11  \\\n",
       "\n",
       "            Diff  \n",
       "84  5.209435e+11  "
      ]
     },
     "metadata": {},
     "output_type": "display_data"
    }
   ],
   "source": [
    "to_remove = report_200[(report_200[\"Goal Predetti 22/23\"] >= 10*report_200[\"Goal Segnati 22/23\"])]\n",
    "\n",
    "for idx in to_remove.index.values:\n",
    "    row = to_remove.loc[idx]\n",
    "    if ((row[\"Goal Segnati 22/23\"] == 0) & (row[\"Goal Predetti 22/23\"] == 0)):\n",
    "        to_remove = to_remove.drop(idx)\n",
    "        continue\n",
    "    if ((row[\"Goal Segnati 22/23\"] == 0) & (row[\"Goal Predetti 22/23\"] <= 7)):\n",
    "        to_remove = to_remove.drop(idx)\n",
    "\n",
    "display(to_remove)"
   ]
  },
  {
   "cell_type": "markdown",
   "id": "8718c4da",
   "metadata": {},
   "source": [
    "Rimuoviamo questo sample, la cui predizione è assolutamente illogica."
   ]
  },
  {
   "cell_type": "code",
   "execution_count": 25,
   "id": "4d087db0",
   "metadata": {},
   "outputs": [],
   "source": [
    "for idx in to_remove.index.values:\n",
    "    y_actual[idx] = 0\n",
    "    y_predicted[idx] = 0"
   ]
  },
  {
   "cell_type": "code",
   "execution_count": 26,
   "id": "6ae5163b",
   "metadata": {},
   "outputs": [
    {
     "name": "stdout",
     "output_type": "stream",
     "text": [
      "Errore Quadratico Medio: 1.2784795656765113\n",
      "Errore Assoluto Medio: 0.6708843541953239\n",
      "R2 Score:  0.9415817321668102\n"
     ]
    }
   ],
   "source": [
    "print(\"Errore Quadratico Medio:\", mean_squared_error(y_actual, y_predicted))\n",
    "print(\"Errore Assoluto Medio:\", mean_absolute_error(y_actual, y_predicted))\n",
    "print(\"R2 Score: \", r2_score(y_actual, y_predicted))"
   ]
  },
  {
   "cell_type": "markdown",
   "id": "765ad2f6",
   "metadata": {},
   "source": [
    "## Testing sull'intero Test Set"
   ]
  },
  {
   "cell_type": "markdown",
   "id": "fc614ec3",
   "metadata": {},
   "source": [
    "Vengono rimossi dal Test Set tutti quei giocatori che non hanno datapoint \"vecchi\": per come è strutturato il Sistema, per questi giocatori non è possibile addestrare un Modello di Regressione."
   ]
  },
  {
   "cell_type": "code",
   "execution_count": 27,
   "id": "4ea45552",
   "metadata": {},
   "outputs": [],
   "source": [
    "giocatori_tot = X_test[\"Player\"].tolist()\n",
    "giocatori_da_testare = []\n",
    "\n",
    "for player in giocatori_tot:\n",
    "    old_neighbors = X_train[X_train[\"Player\"] == player]\n",
    "    if (old_neighbors.shape[0] > 0):\n",
    "        giocatori_da_testare.append(player)"
   ]
  },
  {
   "cell_type": "code",
   "execution_count": 28,
   "id": "0f67a8dc",
   "metadata": {},
   "outputs": [],
   "source": [
    "y_predicted = []\n",
    "y_actual = []\n",
    "full_report = pd.DataFrame(columns=[\"Player\", \"Squadra\", \"Ruolo\", \"Goal Segnati 22/23\", \"Goal Predetti 22/23\", \"Diff\"])\n",
    "\n",
    "for player in giocatori_da_testare:\n",
    "    vector = X_test[(X_test[\"Player\"] == player)]\n",
    "    squad = vector[\"Squad\"].values[0]\n",
    "    pos = vector[\"Pos\"].values[0]\n",
    "        \n",
    "    goals_scored = vector[\"Goals\"].values.astype(int)[0]\n",
    "    y_actual.append(goals_scored)\n",
    "        \n",
    "    scaled_vector, X_reg_dataset, y_reg_dataset = build_regression_dataset(vector, kmeans)\n",
    "    regressor.fit(X=X_reg_dataset, y=y_reg_dataset)\n",
    "        \n",
    "    goals_predicted = regressor.predict(scaled_vector)[0][0]\n",
    "    if goals_predicted < 0:\n",
    "        goals_predicted = 0 # Attenzione! Il modello può prevedere un numero negativo di Goal segnati...ma ciò non ha senso!\n",
    "    y_predicted.append(goals_predicted)\n",
    "        \n",
    "    diff = np.abs(goals_scored-goals_predicted)\n",
    "        \n",
    "    full_report.loc[len(full_report)] = [player, squad, pos, goals_scored, goals_predicted, diff]"
   ]
  },
  {
   "cell_type": "code",
   "execution_count": 29,
   "id": "7a553d42",
   "metadata": {},
   "outputs": [],
   "source": [
    "# Esegui per materializzare il Full_Report\n",
    "full_report.to_excel(\"FILEPATH/Full Report Linear Regression x KMeans.xlsx\", index=False)"
   ]
  },
  {
   "cell_type": "code",
   "execution_count": 30,
   "id": "87c5b658",
   "metadata": {},
   "outputs": [
    {
     "name": "stdout",
     "output_type": "stream",
     "text": [
      "Errore Quadratico Medio: 8.446297966095478e+22\n",
      "Errore Assoluto Medio: 18702327588.43299\n",
      "R2 Score:  -6.342407737880748e+21\n"
     ]
    }
   ],
   "source": [
    "print(\"Errore Quadratico Medio:\", mean_squared_error(y_actual, y_predicted))\n",
    "print(\"Errore Assoluto Medio:\", mean_absolute_error(y_actual, y_predicted))\n",
    "print(\"R2 Score: \", r2_score(y_actual, y_predicted))"
   ]
  },
  {
   "cell_type": "markdown",
   "id": "9a93cac4",
   "metadata": {},
   "source": [
    "Anche in questo caso ci sono dei sample che rompono il modello: rimuoviamoli e ricalcoliamo le prestazioni."
   ]
  },
  {
   "cell_type": "code",
   "execution_count": 31,
   "id": "11f05d83",
   "metadata": {},
   "outputs": [
    {
     "data": {
      "text/html": [
       "<div>\n",
       "<style scoped>\n",
       "    .dataframe tbody tr th:only-of-type {\n",
       "        vertical-align: middle;\n",
       "    }\n",
       "\n",
       "    .dataframe tbody tr th {\n",
       "        vertical-align: top;\n",
       "    }\n",
       "\n",
       "    .dataframe thead th {\n",
       "        text-align: right;\n",
       "    }\n",
       "</style>\n",
       "<table border=\"1\" class=\"dataframe\">\n",
       "  <thead>\n",
       "    <tr style=\"text-align: right;\">\n",
       "      <th></th>\n",
       "      <th>Player</th>\n",
       "      <th>Squadra</th>\n",
       "      <th>Ruolo</th>\n",
       "      <th>Goal Segnati 22/23</th>\n",
       "      <th>Goal Predetti 22/23</th>\n",
       "      <th>Diff</th>\n",
       "    </tr>\n",
       "  </thead>\n",
       "  <tbody>\n",
       "    <tr>\n",
       "      <th>34</th>\n",
       "      <td>Rubén Alcaraz</td>\n",
       "      <td>Cádiz</td>\n",
       "      <td>MF</td>\n",
       "      <td>3</td>\n",
       "      <td>1.050221e+12</td>\n",
       "      <td>1.050221e+12</td>\n",
       "    </tr>\n",
       "    <tr>\n",
       "      <th>107</th>\n",
       "      <td>Leonardo Balerdi</td>\n",
       "      <td>Marseille</td>\n",
       "      <td>DF</td>\n",
       "      <td>0</td>\n",
       "      <td>7.921612e+11</td>\n",
       "      <td>7.921612e+11</td>\n",
       "    </tr>\n",
       "    <tr>\n",
       "      <th>124</th>\n",
       "      <td>Leandro Barreiro Martins</td>\n",
       "      <td>Mainz 05</td>\n",
       "      <td>MF</td>\n",
       "      <td>4</td>\n",
       "      <td>3.699045e+10</td>\n",
       "      <td>3.699045e+10</td>\n",
       "    </tr>\n",
       "    <tr>\n",
       "      <th>170</th>\n",
       "      <td>Philip Billing</td>\n",
       "      <td>Bournemouth</td>\n",
       "      <td>MF,FW</td>\n",
       "      <td>7</td>\n",
       "      <td>3.213124e+11</td>\n",
       "      <td>3.213124e+11</td>\n",
       "    </tr>\n",
       "    <tr>\n",
       "      <th>263</th>\n",
       "      <td>Danilo Cataldi</td>\n",
       "      <td>Lazio</td>\n",
       "      <td>MF</td>\n",
       "      <td>0</td>\n",
       "      <td>2.241323e+12</td>\n",
       "      <td>2.241323e+12</td>\n",
       "    </tr>\n",
       "    <tr>\n",
       "      <th>385</th>\n",
       "      <td>Krépin Diatta</td>\n",
       "      <td>Monaco</td>\n",
       "      <td>MF,FW</td>\n",
       "      <td>4</td>\n",
       "      <td>6.596256e+10</td>\n",
       "      <td>6.596256e+10</td>\n",
       "    </tr>\n",
       "    <tr>\n",
       "      <th>422</th>\n",
       "      <td>Marvin Ducksch</td>\n",
       "      <td>Werder Bremen</td>\n",
       "      <td>FW</td>\n",
       "      <td>12</td>\n",
       "      <td>4.260527e+10</td>\n",
       "      <td>4.260527e+10</td>\n",
       "    </tr>\n",
       "    <tr>\n",
       "      <th>533</th>\n",
       "      <td>Iñigo Ruiz de Galarreta</td>\n",
       "      <td>Mallorca</td>\n",
       "      <td>MF</td>\n",
       "      <td>0</td>\n",
       "      <td>3.423789e+09</td>\n",
       "      <td>3.423789e+09</td>\n",
       "    </tr>\n",
       "    <tr>\n",
       "      <th>541</th>\n",
       "      <td>Aleix García</td>\n",
       "      <td>Girona</td>\n",
       "      <td>MF</td>\n",
       "      <td>1</td>\n",
       "      <td>9.193692e+09</td>\n",
       "      <td>9.193692e+09</td>\n",
       "    </tr>\n",
       "    <tr>\n",
       "      <th>572</th>\n",
       "      <td>Angel Gomes</td>\n",
       "      <td>Lille</td>\n",
       "      <td>MF</td>\n",
       "      <td>2</td>\n",
       "      <td>2.257835e+11</td>\n",
       "      <td>2.257835e+11</td>\n",
       "    </tr>\n",
       "    <tr>\n",
       "      <th>576</th>\n",
       "      <td>Sergi Gómez</td>\n",
       "      <td>Espanyol</td>\n",
       "      <td>DF</td>\n",
       "      <td>0</td>\n",
       "      <td>3.068670e+12</td>\n",
       "      <td>3.068670e+12</td>\n",
       "    </tr>\n",
       "    <tr>\n",
       "      <th>629</th>\n",
       "      <td>Koray Günter</td>\n",
       "      <td>Hellas Verona</td>\n",
       "      <td>DF</td>\n",
       "      <td>1</td>\n",
       "      <td>2.900000e+01</td>\n",
       "      <td>2.800000e+01</td>\n",
       "    </tr>\n",
       "    <tr>\n",
       "      <th>630</th>\n",
       "      <td>Koray Günter</td>\n",
       "      <td>Hellas Verona</td>\n",
       "      <td>DF</td>\n",
       "      <td>1</td>\n",
       "      <td>2.900000e+01</td>\n",
       "      <td>2.800000e+01</td>\n",
       "    </tr>\n",
       "    <tr>\n",
       "      <th>760</th>\n",
       "      <td>Ozan Kabak</td>\n",
       "      <td>Hoffenheim</td>\n",
       "      <td>DF</td>\n",
       "      <td>2</td>\n",
       "      <td>2.367306e+11</td>\n",
       "      <td>2.367306e+11</td>\n",
       "    </tr>\n",
       "    <tr>\n",
       "      <th>805</th>\n",
       "      <td>Robin Knoche</td>\n",
       "      <td>Union Berlin</td>\n",
       "      <td>DF</td>\n",
       "      <td>2</td>\n",
       "      <td>1.787009e+12</td>\n",
       "      <td>1.787009e+12</td>\n",
       "    </tr>\n",
       "    <tr>\n",
       "      <th>818</th>\n",
       "      <td>Teun Koopmeiners</td>\n",
       "      <td>Atalanta</td>\n",
       "      <td>MF</td>\n",
       "      <td>10</td>\n",
       "      <td>2.703527e+12</td>\n",
       "      <td>2.703527e+12</td>\n",
       "    </tr>\n",
       "    <tr>\n",
       "      <th>905</th>\n",
       "      <td>Renan Lodi</td>\n",
       "      <td>Nott'ham Forest</td>\n",
       "      <td>DF</td>\n",
       "      <td>0</td>\n",
       "      <td>9.190203e+10</td>\n",
       "      <td>9.190203e+10</td>\n",
       "    </tr>\n",
       "    <tr>\n",
       "      <th>1112</th>\n",
       "      <td>Joakim Mæhle</td>\n",
       "      <td>Atalanta</td>\n",
       "      <td>DF,MF</td>\n",
       "      <td>3</td>\n",
       "      <td>1.582652e+11</td>\n",
       "      <td>1.582652e+11</td>\n",
       "    </tr>\n",
       "    <tr>\n",
       "      <th>1205</th>\n",
       "      <td>Mads Pedersen</td>\n",
       "      <td>Augsburg</td>\n",
       "      <td>DF,MF</td>\n",
       "      <td>0</td>\n",
       "      <td>5.390601e+11</td>\n",
       "      <td>5.390601e+11</td>\n",
       "    </tr>\n",
       "    <tr>\n",
       "      <th>1209</th>\n",
       "      <td>Jordan Pefok</td>\n",
       "      <td>Union Berlin</td>\n",
       "      <td>FW</td>\n",
       "      <td>4</td>\n",
       "      <td>5.275018e+11</td>\n",
       "      <td>5.275018e+11</td>\n",
       "    </tr>\n",
       "    <tr>\n",
       "      <th>1214</th>\n",
       "      <td>Andreas Pereira</td>\n",
       "      <td>Fulham</td>\n",
       "      <td>MF</td>\n",
       "      <td>4</td>\n",
       "      <td>8.596275e+11</td>\n",
       "      <td>8.596275e+11</td>\n",
       "    </tr>\n",
       "    <tr>\n",
       "      <th>1246</th>\n",
       "      <td>Marvin Plattenhardt</td>\n",
       "      <td>Hertha BSC</td>\n",
       "      <td>DF</td>\n",
       "      <td>0</td>\n",
       "      <td>1.996976e+11</td>\n",
       "      <td>1.996976e+11</td>\n",
       "    </tr>\n",
       "    <tr>\n",
       "      <th>1258</th>\n",
       "      <td>Stefan Posch</td>\n",
       "      <td>Bologna</td>\n",
       "      <td>DF</td>\n",
       "      <td>6</td>\n",
       "      <td>8.672463e+11</td>\n",
       "      <td>8.672463e+11</td>\n",
       "    </tr>\n",
       "    <tr>\n",
       "      <th>1377</th>\n",
       "      <td>Oihan Sancet</td>\n",
       "      <td>Athletic Club</td>\n",
       "      <td>MF</td>\n",
       "      <td>10</td>\n",
       "      <td>3.566175e+12</td>\n",
       "      <td>3.566175e+12</td>\n",
       "    </tr>\n",
       "    <tr>\n",
       "      <th>1469</th>\n",
       "      <td>Djibril Sow</td>\n",
       "      <td>Eint Frankfurt</td>\n",
       "      <td>MF</td>\n",
       "      <td>4</td>\n",
       "      <td>1.132362e+12</td>\n",
       "      <td>1.132362e+12</td>\n",
       "    </tr>\n",
       "    <tr>\n",
       "      <th>1503</th>\n",
       "      <td>Edmond Tapsoba</td>\n",
       "      <td>Leverkusen</td>\n",
       "      <td>DF</td>\n",
       "      <td>1</td>\n",
       "      <td>4.891985e+11</td>\n",
       "      <td>4.891985e+11</td>\n",
       "    </tr>\n",
       "    <tr>\n",
       "      <th>1627</th>\n",
       "      <td>Joel Ward</td>\n",
       "      <td>Crystal Palace</td>\n",
       "      <td>DF</td>\n",
       "      <td>1</td>\n",
       "      <td>9.991555e+12</td>\n",
       "      <td>9.991555e+12</td>\n",
       "    </tr>\n",
       "    <tr>\n",
       "      <th>1633</th>\n",
       "      <td>Julian Weigl</td>\n",
       "      <td>M'Gladbach</td>\n",
       "      <td>MF</td>\n",
       "      <td>1</td>\n",
       "      <td>5.209435e+11</td>\n",
       "      <td>5.209435e+11</td>\n",
       "    </tr>\n",
       "    <tr>\n",
       "      <th>1691</th>\n",
       "      <td>Kurt Zouma</td>\n",
       "      <td>West Ham</td>\n",
       "      <td>DF</td>\n",
       "      <td>2</td>\n",
       "      <td>2.281053e+11</td>\n",
       "      <td>2.281053e+11</td>\n",
       "    </tr>\n",
       "  </tbody>\n",
       "</table>\n",
       "</div>"
      ],
      "text/plain": [
       "                        Player          Squadra  Ruolo  Goal Segnati 22/23   \n",
       "34               Rubén Alcaraz            Cádiz     MF                   3  \\\n",
       "107           Leonardo Balerdi        Marseille     DF                   0   \n",
       "124   Leandro Barreiro Martins         Mainz 05     MF                   4   \n",
       "170             Philip Billing      Bournemouth  MF,FW                   7   \n",
       "263             Danilo Cataldi            Lazio     MF                   0   \n",
       "385              Krépin Diatta           Monaco  MF,FW                   4   \n",
       "422             Marvin Ducksch    Werder Bremen     FW                  12   \n",
       "533    Iñigo Ruiz de Galarreta         Mallorca     MF                   0   \n",
       "541               Aleix García           Girona     MF                   1   \n",
       "572                Angel Gomes            Lille     MF                   2   \n",
       "576                Sergi Gómez         Espanyol     DF                   0   \n",
       "629               Koray Günter    Hellas Verona     DF                   1   \n",
       "630               Koray Günter    Hellas Verona     DF                   1   \n",
       "760                 Ozan Kabak       Hoffenheim     DF                   2   \n",
       "805               Robin Knoche     Union Berlin     DF                   2   \n",
       "818           Teun Koopmeiners         Atalanta     MF                  10   \n",
       "905                 Renan Lodi  Nott'ham Forest     DF                   0   \n",
       "1112              Joakim Mæhle         Atalanta  DF,MF                   3   \n",
       "1205             Mads Pedersen         Augsburg  DF,MF                   0   \n",
       "1209              Jordan Pefok     Union Berlin     FW                   4   \n",
       "1214           Andreas Pereira           Fulham     MF                   4   \n",
       "1246       Marvin Plattenhardt       Hertha BSC     DF                   0   \n",
       "1258              Stefan Posch          Bologna     DF                   6   \n",
       "1377              Oihan Sancet    Athletic Club     MF                  10   \n",
       "1469               Djibril Sow   Eint Frankfurt     MF                   4   \n",
       "1503            Edmond Tapsoba       Leverkusen     DF                   1   \n",
       "1627                 Joel Ward   Crystal Palace     DF                   1   \n",
       "1633              Julian Weigl       M'Gladbach     MF                   1   \n",
       "1691                Kurt Zouma         West Ham     DF                   2   \n",
       "\n",
       "      Goal Predetti 22/23          Diff  \n",
       "34           1.050221e+12  1.050221e+12  \n",
       "107          7.921612e+11  7.921612e+11  \n",
       "124          3.699045e+10  3.699045e+10  \n",
       "170          3.213124e+11  3.213124e+11  \n",
       "263          2.241323e+12  2.241323e+12  \n",
       "385          6.596256e+10  6.596256e+10  \n",
       "422          4.260527e+10  4.260527e+10  \n",
       "533          3.423789e+09  3.423789e+09  \n",
       "541          9.193692e+09  9.193692e+09  \n",
       "572          2.257835e+11  2.257835e+11  \n",
       "576          3.068670e+12  3.068670e+12  \n",
       "629          2.900000e+01  2.800000e+01  \n",
       "630          2.900000e+01  2.800000e+01  \n",
       "760          2.367306e+11  2.367306e+11  \n",
       "805          1.787009e+12  1.787009e+12  \n",
       "818          2.703527e+12  2.703527e+12  \n",
       "905          9.190203e+10  9.190203e+10  \n",
       "1112         1.582652e+11  1.582652e+11  \n",
       "1205         5.390601e+11  5.390601e+11  \n",
       "1209         5.275018e+11  5.275018e+11  \n",
       "1214         8.596275e+11  8.596275e+11  \n",
       "1246         1.996976e+11  1.996976e+11  \n",
       "1258         8.672463e+11  8.672463e+11  \n",
       "1377         3.566175e+12  3.566175e+12  \n",
       "1469         1.132362e+12  1.132362e+12  \n",
       "1503         4.891985e+11  4.891985e+11  \n",
       "1627         9.991555e+12  9.991555e+12  \n",
       "1633         5.209435e+11  5.209435e+11  \n",
       "1691         2.281053e+11  2.281053e+11  "
      ]
     },
     "metadata": {},
     "output_type": "display_data"
    }
   ],
   "source": [
    "to_remove = full_report[(full_report[\"Goal Predetti 22/23\"] >= 10*full_report[\"Goal Segnati 22/23\"])]\n",
    "\n",
    "for idx in to_remove.index.values:\n",
    "    row = to_remove.loc[idx]\n",
    "    if ((row[\"Goal Segnati 22/23\"] == 0) & (row[\"Goal Predetti 22/23\"] == 0)):\n",
    "        to_remove = to_remove.drop(idx)\n",
    "        continue\n",
    "    if ((row[\"Goal Segnati 22/23\"] == 0) & (row[\"Goal Predetti 22/23\"] <= 7)):\n",
    "        to_remove = to_remove.drop(idx)\n",
    "\n",
    "display(to_remove)"
   ]
  },
  {
   "cell_type": "code",
   "execution_count": 32,
   "id": "42ead0d8",
   "metadata": {},
   "outputs": [],
   "source": [
    "for idx in to_remove.index.values:\n",
    "    y_actual[idx] = 0\n",
    "    y_predicted[idx] = 0"
   ]
  },
  {
   "cell_type": "code",
   "execution_count": 33,
   "id": "231aac23",
   "metadata": {},
   "outputs": [
    {
     "name": "stdout",
     "output_type": "stream",
     "text": [
      "Errore Quadratico Medio: 1.093318372164865\n",
      "Errore Assoluto Medio: 0.5409571011226296\n",
      "R2 Score:  0.9173424391126817\n"
     ]
    }
   ],
   "source": [
    "print(\"Errore Quadratico Medio:\", mean_squared_error(y_actual, y_predicted))\n",
    "print(\"Errore Assoluto Medio:\", mean_absolute_error(y_actual, y_predicted))\n",
    "print(\"R2 Score: \", r2_score(y_actual, y_predicted))"
   ]
  }
 ],
 "metadata": {
  "kernelspec": {
   "display_name": "Python 3 (ipykernel)",
   "language": "python",
   "name": "python3"
  },
  "language_info": {
   "codemirror_mode": {
    "name": "ipython",
    "version": 3
   },
   "file_extension": ".py",
   "mimetype": "text/x-python",
   "name": "python",
   "nbconvert_exporter": "python",
   "pygments_lexer": "ipython3",
   "version": "3.9.16"
  }
 },
 "nbformat": 4,
 "nbformat_minor": 5
}

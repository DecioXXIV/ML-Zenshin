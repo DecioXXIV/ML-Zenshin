{
 "cells": [
  {
   "cell_type": "markdown",
   "id": "9aa4b033",
   "metadata": {},
   "source": [
    "Questo primo Notebook illustra il processo effettuato per selezionare le Feature, rilevanti sia per il Modello di Clustering che per quello di Regressione."
   ]
  },
  {
   "cell_type": "code",
   "execution_count": 2,
   "id": "742a113b",
   "metadata": {},
   "outputs": [],
   "source": [
    "import pandas as pd"
   ]
  },
  {
   "cell_type": "code",
   "execution_count": 4,
   "id": "35a1c406",
   "metadata": {},
   "outputs": [],
   "source": [
    "X_train = pd.read_csv(\"../dataset/Train Set 1722.csv\")\n",
    "X_test = pd.read_csv(\"../dataset/Test Set 2223.csv\")\n",
    "X_total = pd.concat([X_train, X_test], axis=0)"
   ]
  },
  {
   "cell_type": "markdown",
   "id": "f94107d9",
   "metadata": {},
   "source": [
    "Ottenuto il Dataset completo osserviamo le sue dimensioni."
   ]
  },
  {
   "cell_type": "code",
   "execution_count": 5,
   "id": "ad919512",
   "metadata": {},
   "outputs": [
    {
     "name": "stdout",
     "output_type": "stream",
     "text": [
      "<class 'pandas.core.frame.DataFrame'>\n",
      "Index: 16708 entries, 0 to 2888\n",
      "Columns: 152 entries, Player to npxG+xAG/90\n",
      "dtypes: float64(130), int64(17), object(5)\n",
      "memory usage: 19.5+ MB\n"
     ]
    }
   ],
   "source": [
    "X_total.info()"
   ]
  },
  {
   "cell_type": "markdown",
   "id": "3ff651ab",
   "metadata": {},
   "source": [
    "Il processo di Feature Selection viene effettuato osservando la Matrice di Correlazione tra le singole Feature: rimuoviamo, pertanto, le Feature testuali e la Feature relativa alla Stagione dal DataFrame."
   ]
  },
  {
   "cell_type": "code",
   "execution_count": 6,
   "id": "8aef16d5",
   "metadata": {},
   "outputs": [],
   "source": [
    "X_total = X_total.drop([\"Player\", \"Nation\", \"Pos\", \"Squad\", \"Comp\", \"Season\"], axis=1)"
   ]
  },
  {
   "cell_type": "markdown",
   "id": "d29e4b00",
   "metadata": {},
   "source": [
    "Ciò che ci interessa è osservare la correlazione delle Feature rispetto alla Feature $\\textbf{Goals}$, ovvero quella che sarà l'output finale dell'intero modello."
   ]
  },
  {
   "cell_type": "code",
   "execution_count": 7,
   "id": "1aa52840",
   "metadata": {},
   "outputs": [],
   "source": [
    "corr_matrix = pd.DataFrame(X_total.corr()[\"Goals\"])"
   ]
  },
  {
   "cell_type": "code",
   "execution_count": 8,
   "id": "95f89fe7",
   "metadata": {
    "scrolled": false
   },
   "outputs": [
    {
     "name": "stdout",
     "output_type": "stream",
     "text": [
      "                                Goals\n",
      "Goals                         1.00000\n",
      "G-PK                          0.97921\n",
      "xG                            0.93819\n",
      "G+A                           0.93530\n",
      "npxG                          0.91516\n",
      "Shots on Target               0.90524\n",
      "npxG+xAG                      0.87488\n",
      "Shots                         0.85122\n",
      "Att Pen                       0.84523\n",
      "SCA Shot to Shot              0.71519\n",
      "Offsides                      0.71203\n",
      "Miscontrols                   0.69625\n",
      "Progressive Passes Received   0.68572\n",
      "GCA                           0.67229\n",
      "Carries into Penalty Area     0.65094\n",
      "Dispossessed                  0.63758\n",
      "PK Attempted                  0.63463\n",
      "SCA                           0.62013\n",
      "PK Made                       0.61800\n",
      "Att 3rd                       0.61792\n",
      "xAG                           0.61181\n",
      "SCA TO to Shot                0.60237\n",
      "SCA Foul Drawn to Shot        0.59245\n",
      "SC A PassLive                 0.58968\n",
      "GCA PassLive                  0.58453\n",
      "Key Passes                    0.57056\n",
      "Tackles during Take-On        0.56501\n",
      "xA                            0.56254\n",
      "Take-Ons Attempted            0.55528\n",
      "Assists                       0.54913\n",
      "GCA TO to Goal                0.54337\n",
      "Fouls Drawn                   0.51433\n",
      "Take-Ons Successful           0.51222\n",
      "GCA Shot to Goal              0.50581\n",
      "Progressive Carries           0.50560\n",
      "Passes into Penalty Area      0.49278\n",
      "Aerial Duels Lost             0.48997\n",
      "Goals Scored while on Pitch   0.47539\n",
      "Carries into Final 1/3        0.47378\n",
      "GCA Foul Drawn to Goal        0.46208\n",
      "xGS while on Pitch            0.45825\n",
      "Through Balls                 0.45517\n",
      "G-xG                          0.44967\n",
      "Matches Played                0.44672\n",
      "G/90                          0.44441\n",
      "PK Won                        0.43598\n",
      "npG-xG                        0.43554\n",
      "G/Shots on Target             0.42184\n",
      "Passes Blocked by Opponents   0.41674\n",
      "G/Shot                        0.40985\n",
      "Starts                        0.40240\n",
      "Fouls Committed               0.40208\n",
      "Minutes                       0.39980\n",
      "Min/90s                       0.39980\n",
      "Player Min/Squad Min%         0.39869\n",
      "G-PK/90                       0.39672\n",
      "Free Kick Shots               0.38013\n",
      "G+A/90                        0.36209\n",
      "xG/90                         0.35770\n",
      "npxG/Shot                     0.35739\n",
      "Passes Received               0.34837\n",
      "xG+xAG/90                     0.34157\n",
      "xGA while on Pitch            0.33548\n",
      "Shots on Target%              0.33308\n",
      "Total Carries Distance        0.33150\n",
      "G+A-PK/90                     0.32783\n",
      "Offside Passes                0.32137\n",
      "Shots on Target/90            0.31786\n",
      "Short Passes Attempted        0.31746\n",
      "Goals Allowed while on Pitch  0.31452\n",
      "npxG/90                       0.30534\n",
      "Carries                       0.30443\n",
      "Progressive Passes            0.30316\n",
      "npxG+xAG/90                   0.30194\n",
      "Aerial Duels Won              0.28682\n",
      "Short Passes Completed        0.28196\n",
      "Crosses.1                     0.27034\n",
      "Crosses                       0.27034\n",
      "Goal+/ Goal-                  0.26675\n",
      "Touches                       0.26443\n",
      "Live Ball Touches             0.26365\n",
      "Progressive Carries Distance  0.26146\n",
      "Corner Kicks                  0.24654\n",
      "xG+/-                         0.24375\n",
      "Shots/90                      0.24088\n",
      "Inswining Corner Kicks        0.24059\n",
      "SCA Def to Shot               0.23930\n",
      "Mid 3rd                       0.22895\n",
      "Live Ball Passes              0.22640\n",
      "Ball Recoveries               0.21985\n",
      "Passes Attempted.1            0.20852\n",
      "Passes Attempted              0.20852\n",
      "Completed Matches             0.20516\n",
      "Min/Match                     0.20010\n",
      "SCA PassDead                  0.19977\n",
      "Y Crd                         0.19869\n",
      "Passes into Final 1/3         0.18649\n",
      "Outswinging Corner Kicks      0.18616\n",
      "Passes Completed              0.17860\n",
      "Passes Completed.1            0.17860\n",
      "GCA PassDead                  0.17099\n",
      "Switches                      0.16659\n",
      "Min/Sub                       0.16546\n",
      "Crosses into Penalty Area     0.16307\n",
      "GCA90                         0.16230\n",
      "Points per Match              0.15245\n",
      "SCA90                         0.15104\n",
      "GCA Def to Goal               0.14023\n",
      "Tackles Won                   0.12854\n",
      "xAG/90                        0.12748\n",
      "Subs                          0.12048\n",
      "Medium Passes Attempted       0.10226\n",
      "Tot Pass Distance             0.09646\n",
      "A/90                          0.09627\n",
      "Tackled during Take-On%       0.09535\n",
      "Straight Corner Kicks         0.08619\n",
      "Age                           0.08226\n",
      "xG+/-90                       0.07407\n",
      "Take-Ons Successful%          0.06775\n",
      "Medium Passes Completed       0.06711\n",
      "Goal+/ Goal-90                0.05488\n",
      "Long Passes Completed%        0.05402\n",
      "xG On-Off                     0.05354\n",
      "Min/Start                     0.05275\n",
      "On-Off                        0.04217\n",
      "R Crd                         0.03706\n",
      "Interceptions                 0.03111\n",
      "A-xAG                         0.02623\n",
      "2Y Crd                        0.02609\n",
      "Dead Ball Passes              0.00386\n",
      "Long Passes Completed         0.00243\n",
      "Long Passes Attempted        -0.01305\n",
      "Free Kick Passes             -0.01722\n",
      "OG                           -0.02959\n",
      "Progressive Pass Distance    -0.03263\n",
      "PK Conceded                  -0.04640\n",
      "Throw-Ins                    -0.05620\n",
      "Passes Completed%            -0.08088\n",
      "Born                         -0.08232\n",
      "Def 3rd                      -0.10133\n",
      "Average Shot Distance        -0.11203\n",
      "Def Pen                      -0.12166\n",
      "Aerial Duels Won%            -0.16266\n",
      "Short Passes Completed%      -0.17037\n",
      "Medium Passes Completed%     -0.18144\n",
      "unSub                        -0.28222\n"
     ]
    }
   ],
   "source": [
    "with pd.option_context('display.max_rows', None,\n",
    "                       'display.max_columns', None,\n",
    "                       'display.precision', 5):\n",
    "    print(corr_matrix.sort_values(by=\"Goals\", ascending=False))"
   ]
  },
  {
   "cell_type": "markdown",
   "id": "519da28f",
   "metadata": {},
   "source": [
    "In base a quanto osservato sulla Matrice di Correlazione e in base alla conoscenza del dominio da parte del sottoscritto, si decide di utilizzare le seguenti Feature:\n",
    "- xG (Goal Attesi)\n",
    "- Shots on Target (Tiri in Porta Effettuati)\n",
    "- Shots (Tiri Effettuati)\n",
    "- Att Pen (Tocchi di Palla nell'Area avversaria)\n",
    "- Offsides (Numero di Fuorigioco)\n",
    "- GCA (Azioni che hanno portato ad un Goal)\n",
    "- Carries into Penalty Area (Numero di volte in cui il Giocatore ha portato palla nell'Area avversaria)\n",
    "- PK Attempted (Rigori calciati)\n",
    "- PK Made (Rigori segnati)\n",
    "- Att 3rd (Tocchi di Palla nell'Area avversaria)\n",
    "- GCA TO to Goal (Dribbling che hanno portato ad un Goal)\n",
    "- Take-Ons Attempted (Dribbling tentati)\n",
    "- Take-Ons Successful (Dribbling riusciti)\n",
    "- GCA Shot to Goal (Tiri che hanno portato ad un Goal)\n",
    "- Goals Scored while on Pitch (Goal segnati dalla Squadra con il Giocatore in campo)\n",
    "- Carries into Final 1/3 (Numero di volte in cui il Giocatore ha portato palla nell'ultimo terzo di campo)\n",
    "- xGS while on Pitch (Goal attesi dalla Squadra con il Giocatore in campo)\n",
    "- Matches Played (Partite giocate)\n",
    "- G/Shots on Target (Goals/Tiri in Porta effettuati)\n",
    "- G/Shot (Goals/Tiri effettuati)\n",
    "- Minutes (Minuti giocati)\n",
    "- Shots on Target% (Tiri in Porta effettuati in %)\n",
    "- Shots on Target/90 (Tiri in Porta effettuati/90)\n",
    "- Shots/90 (Tiri effettuati/90)\n",
    "- Mid 3rd (Tocchi di Palla a metà campo)\n",
    "- Def 3rd (Tocchi di Palla nella propria Trequarti difensiva)\n",
    "- Def Pen (Tocchi di Palla nella propria Area)"
   ]
  },
  {
   "cell_type": "code",
   "execution_count": null,
   "id": "e2b81e7e",
   "metadata": {},
   "outputs": [],
   "source": []
  }
 ],
 "metadata": {
  "kernelspec": {
   "display_name": "Python 3 (ipykernel)",
   "language": "python",
   "name": "python3"
  },
  "language_info": {
   "codemirror_mode": {
    "name": "ipython",
    "version": 3
   },
   "file_extension": ".py",
   "mimetype": "text/x-python",
   "name": "python",
   "nbconvert_exporter": "python",
   "pygments_lexer": "ipython3",
   "version": "3.9.16"
  }
 },
 "nbformat": 4,
 "nbformat_minor": 5
}
